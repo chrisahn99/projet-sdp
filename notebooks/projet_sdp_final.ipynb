{
 "cells": [
  {
   "cell_type": "code",
   "execution_count": 1,
   "metadata": {},
   "outputs": [],
   "source": [
    "import matplotlib.pyplot as pyplot\n",
    "from gurobipy import *\n",
    "import numpy as np\n",
    "import os\n",
    "import json\n",
    "import pandas as pd\n",
    "import plotly.graph_objects as go"
   ]
  },
  {
   "cell_type": "markdown",
   "metadata": {},
   "source": [
    "# Données"
   ]
  },
  {
   "cell_type": "code",
   "execution_count": 2,
   "metadata": {},
   "outputs": [],
   "source": [
    "data_dir = 'data'\n",
    "data = json.load(open(os.path.join(data_dir, 'large_instance.json')))"
   ]
  },
  {
   "cell_type": "markdown",
   "metadata": {},
   "source": [
    " # Modèle"
   ]
  },
  {
   "cell_type": "code",
   "execution_count": 7,
   "metadata": {
    "scrolled": true
   },
   "outputs": [
    {
     "name": "stdout",
     "output_type": "stream",
     "text": [
      "Set parameter Username\n",
      "Academic license - for non-commercial use only - expires 2023-12-28\n"
     ]
    }
   ],
   "source": [
    "m = Model()"
   ]
  },
  {
   "cell_type": "markdown",
   "metadata": {},
   "source": [
    "# Utils"
   ]
  },
  {
   "cell_type": "code",
   "execution_count": 4,
   "metadata": {},
   "outputs": [
    {
     "name": "stderr",
     "output_type": "stream",
     "text": [
      "<ipython-input-4-505af2d5906c>:11: DeprecationWarning: `np.int` is a deprecated alias for the builtin `int`. To silence this warning, use `int` by itself. Doing this will not modify any behavior and is safe. When replacing `np.int`, you may wish to use e.g. `np.int64` or `np.int32` to specify the precision. If you wish to review your current use, check the release note link for additional information.\n",
      "Deprecated in NumPy 1.20; for more details and guidance: https://numpy.org/devdocs/release/1.20.0-notes.html#deprecations\n",
      "  has_qualification = np.zeros((n_staff, n_qualifications), dtype=np.int)\n"
     ]
    }
   ],
   "source": [
    "# quelques données utiles\n",
    "n_staff = len(data['staff'])\n",
    "n_jobs = len(data['jobs'])\n",
    "horizon = data['horizon']\n",
    "n_qualifications = len(data['qualifications'])\n",
    "\n",
    "#relier les qualification (A, B, C, ...) à leur index dans les matrices de variables\n",
    "qualification_to_idx = {value: idx for idx, value in enumerate(data['qualifications'])}\n",
    "\n",
    "#données binaire pour savoir si un collaborateur a une qualification\n",
    "has_qualification = np.zeros((n_staff, n_qualifications), dtype=np.int)\n",
    "for staff_idx in range(n_staff):\n",
    "    for qualification in data['qualifications']:\n",
    "        has_qualification[staff_idx, qualification_to_idx[qualification]] = qualification in data['staff'][staff_idx]['qualifications']"
   ]
  },
  {
   "cell_type": "markdown",
   "metadata": {},
   "source": [
    "# Variables"
   ]
  },
  {
   "cell_type": "code",
   "execution_count": 8,
   "metadata": {},
   "outputs": [],
   "source": [
    "### variables de décision ###\n",
    "\n",
    "#vecteur binaire pour savoir si un projet est réalisé\n",
    "job_is_done = m.addMVar(\n",
    "    (n_jobs), vtype=GRB.BINARY\n",
    ")\n",
    "\n",
    "#matrice binaire pour savoir si un collaborateur c travail sur le projet p le jour j sur le qualification s\n",
    "work = m.addMVar(\n",
    "    (n_staff, \n",
    "     n_jobs, \n",
    "     horizon, \n",
    "     n_qualifications), vtype=GRB.BINARY\n",
    ")\n",
    "\n",
    "#matrice binaire pour savoir à quels projets à participé chaque colaborateur\n",
    "participate = m.addMVar(\n",
    "    (n_staff,\n",
    "     n_jobs), vtype=GRB.BINARY\n",
    ")\n",
    "\n",
    "#matrice binaire pour savoir quels projets sont en cours quels jours\n",
    "job_is_active = m.addMVar(\n",
    "    (n_jobs,\n",
    "     horizon), vtype=GRB.BINARY\n",
    ")\n",
    "\n",
    "### variables de modélisation ###\n",
    "\n",
    "#vecteur pour connaître la date de réalisation de début de projet\n",
    "start_date = m.addMVar(\n",
    "    (n_jobs), vtype=GRB.INTEGER\n",
    ")\n",
    "\n",
    "#vecteur pour connaître la date de réalisation de chaque projet\n",
    "finish_date = m.addMVar(\n",
    "    (n_jobs), vtype=GRB.INTEGER\n",
    ")\n",
    "\n",
    "#vecteur binaire pour savoir si un job est temriné en retard\n",
    "job_has_delay = m.addMVar(\n",
    "    (n_jobs), vtype=GRB.BINARY\n",
    ")\n",
    "\n",
    "#vecteur des pénalités par projet\n",
    "job_penalty = m.addMVar(\n",
    "    (n_jobs), vtype=GRB.INTEGER\n",
    ")\n",
    "\n",
    "#vecteur des profits par propet\n",
    "job_profit = m.addMVar(\n",
    "    (n_jobs), vtype=GRB.INTEGER\n",
    ")\n",
    "\n",
    "#variable qui représente le nombre de jobs de l'employé qui en a le plus\n",
    "max_job_per_staff = m.addVar(vtype=GRB.INTEGER)\n",
    "\n",
    "#variable qui représente le nombre de jour que prend le projet le plus long\n",
    "max_len_job = m.addVar(vtype=GRB.INTEGER)\n",
    "\n",
    "m.update()"
   ]
  },
  {
   "cell_type": "markdown",
   "metadata": {},
   "source": [
    "# Contraintes"
   ]
  },
  {
   "cell_type": "code",
   "execution_count": 9,
   "metadata": {},
   "outputs": [],
   "source": [
    "M = 100\n",
    "epsilon = 0.01"
   ]
  },
  {
   "cell_type": "code",
   "execution_count": 10,
   "metadata": {},
   "outputs": [],
   "source": [
    "# Contrainte de couverture des tâches d'un projet\n",
    "for job_idx, job in enumerate(data['jobs']):\n",
    "    for qualification, quantity in job['working_days_per_qualification'].items():\n",
    "        if qualification in job['working_days_per_qualification'].keys():\n",
    "            m.addConstr(work[:, job_idx, :, qualification_to_idx[qualification]].sum() <= job['working_days_per_qualification'][qualification])\n",
    "        else:\n",
    "            m.addConstr(work[:,job_idx,:,qualification_to_idx[qualification]].sum() <= 0)\n",
    "\n",
    "# Contrainte de réalisation d'un projet selon la réalisation de toute les tâches de ce projet\n",
    "for job_idx, job in enumerate(data['jobs']):\n",
    "    for qualification, quantity in job['working_days_per_qualification'].items():\n",
    "        m.addConstr(work[:, job_idx, :, qualification_to_idx[qualification]].sum() >= quantity - 1 + epsilon - M * (1 - job_is_done[job_idx])) #x = 0\n",
    "        m.addConstr(work[:, job_idx, :, qualification_to_idx[qualification]].sum() <= quantity - 1 + M * job_is_done[job_idx]) #x = 1\n",
    "\n",
    "# Contrainte d’unicite de l’affectation quotidienne du personnel (1 seule tâche sur 1 seul projet par jour)\n",
    "for staff_idx, staff in enumerate(data['staff']):\n",
    "    for day in range(horizon):\n",
    "        m.addConstr(work[staff_idx, :, day, :].sum() <= 1)\n",
    "        \n",
    "# Contrainte de qualification du personnel (un collaborateur doit posséder la qualification sur laquelle il travaille)\n",
    "for staff_idx, staff in enumerate(data['staff']):\n",
    "    for qualification in data['qualifications']:\n",
    "        if qualification not in staff['qualifications']:\n",
    "            m.addConstr(work[staff_idx, :, :, qualification_to_idx[qualification]].sum() <= 0)\n",
    "        \n",
    "# Contrainte de vacances\n",
    "for staff_idx, staff in enumerate(data['staff']):\n",
    "    for vacation_day in staff['vacations']:\n",
    "        m.addConstr(work[staff_idx, :, vacation_day - 1, :].sum() <= 0)\n",
    "        \n",
    "# Contrainte de participation d'un colaborateur à un projet (p = 1 si le colaborateur a travaillé au moins 1 jour sur une compétence sur ce projet)\n",
    "for staff_idx in range(n_staff):\n",
    "    for job_idx in range(n_jobs):\n",
    "        m.addConstr(work[staff_idx, job_idx].sum() >= epsilon - M * (1 - participate[staff_idx, job_idx]) ) # force participate = 0 \n",
    "        m.addConstr(work[staff_idx, job_idx].sum() <= M * participate[staff_idx, job_idx])  # force participate = 1 \n",
    "        \n",
    "# Contrainte de caractérisation de la variable job_is_active\n",
    "for job_idx, job in enumerate(data['jobs']):\n",
    "    for day in range(horizon):\n",
    "        # Contrainte dans les deux sens car le comportement dépend de l'objectif fixé\n",
    "        m.addConstr(work[:, job_idx, day, :].sum() >= epsilon - M * (1 - job_is_active[job_idx, day]))  # force job_is_active = 0\n",
    "        m.addConstr(work[:, job_idx, day, :].sum() <= + M * job_is_active[job_idx, day])   # force job_is_active = 1\n",
    "\n",
    "# Contrainte de caractérisation des variables start_date et finish_date\n",
    "for job_idx, job in enumerate(data['jobs']):\n",
    "    m.addConstr(start_date[job_idx] >= 0)\n",
    "    m.addConstr(finish_date[job_idx] <= horizon - 1)\n",
    "    for day in range(horizon):\n",
    "        m.addConstr(start_date[job_idx] <= day * job_is_active[job_idx, day])   # en réalité ce n'est que le plus petit jour qui induit start_date\n",
    "        m.addConstr(finish_date[job_idx] >= day * job_is_active[job_idx, day])  # en réalité ce n'est que le plus grand jour qui inudit finish_date\n",
    "        \n",
    "# Contrainte de caractérisation de la variable job_has_delay\n",
    "for job_idx, job in enumerate(data['jobs']):\n",
    "    # Je mes les deux sens de contrainte car selon le cas il y a un interêt à job_has_delay = 0 ou 1\n",
    "    m.addConstr(finish_date[job_idx] >= job['due_date']-1 + epsilon - M * (1 - job_has_delay[job_idx]))\n",
    "    m.addConstr(finish_date[job_idx] <= job['due_date']-1 + M * job_has_delay[job_idx])\n",
    "    \n",
    "# Contrainte de caractérisation de la variable job_penalty\n",
    "for job_idx, job in enumerate(data['jobs']):\n",
    "    m.addConstr(job_penalty[job_idx] == job_has_delay[job_idx] * job['daily_penalty'] * (finish_date[job_idx] - start_date[job_idx]))\n",
    "    \n",
    "# Contrainte de caractérisation de job_profit\n",
    "for job_idx, job in enumerate(data['jobs']):\n",
    "    m.addConstr(job_profit[job_idx] == job_is_done[job_idx] * (job['gain'] - job_penalty[job_idx]))\n",
    "\n",
    "# Contrainte de définition de max_job_per_staff\n",
    "for staff_idx in range(n_staff):\n",
    "    m.addConstr(max_job_per_staff >= participate[staff_idx].sum())\n",
    "    \n",
    "# Contrainte de définition de max_len_job\n",
    "for job_idx, job in enumerate(data['jobs']):\n",
    "    m.addConstr(max_len_job >= finish_date[job_idx] - start_date[job_idx])\n",
    "\n",
    "m.update()"
   ]
  },
  {
   "cell_type": "markdown",
   "metadata": {},
   "source": [
    "# Résolution"
   ]
  },
  {
   "cell_type": "code",
   "execution_count": 11,
   "metadata": {
    "scrolled": true
   },
   "outputs": [
    {
     "name": "stdout",
     "output_type": "stream",
     "text": [
      "Problem has 3 objectives\n",
      "Gurobi found 10 solutions\n",
      " \n",
      "Solution 0 :  -800.0  6.0  34.0\n",
      "job_is_done = [ 1. -0.  1.  1.  1.  1.  1.  1.  1. -0. -0.  1. -0.  0.  1.  1. -0. -0.\n",
      " -0.  1.  1.  1.  1. -0.  1.]\n",
      "job_penalty = [0. 0. 0. 0. 0. 0. 0. 0. 0. 0. 0. 0. 0. 0. 0. 0. 0. 0. 0. 0. 0. 0. 0. 0.\n",
      " 0.]\n",
      "finish_date = [25. 21. 15. 17. 13. 31. 17. 29. 19. -0. 31. 25. -0.  0. 34. 17. 17. -0.\n",
      " 17. 11. 27. 25. 11. -0. 13.]\n",
      "participate = [[ 1.  0.  1.  1.  1.  1. -0.  1. -0. -0. -0. -0. -0.  0. -0. -0. -0. -0.\n",
      "  -0. -0. -0. -0. -0. -0. -0.]\n",
      " [-0.  0. -0.  0.  1.  1. -0.  1. -0. -0. -0.  1. -0.  0.  1.  1. -0. -0.\n",
      "  -0. -0. -0. -0. -0. -0. -0.]\n",
      " [-0.  0. -0. -0.  1.  1.  1. -0.  1. -0. -0. -0. -0.  0.  1. -0. -0. -0.\n",
      "  -0. -0. -0. -0.  1. -0. -0.]\n",
      " [-0.  0.  0. -0.  1.  0. -0.  1.  1. -0. -0. -0. -0.  0.  1. -0. -0. -0.\n",
      "  -0.  1.  1. -0.  0. -0. -0.]\n",
      " [-0. -0. -0. -0. -0.  1.  1.  1.  0. -0. -0. -0. -0.  0.  0.  1. -0. -0.\n",
      "  -0. -0.  1. -0.  1. -0. -0.]\n",
      " [-0. -0. -0. -0. -0. -0. -0.  1.  1. -0. -0. -0. -0.  0.  1.  1. -0. -0.\n",
      "  -0. -0.  0.  1. -0. -0.  1.]]\n",
      "\n",
      "Solution 1 :  -800.0  7.0  34.0\n",
      "job_is_done = [ 1.  0.  1.  1.  1.  1.  1.  1.  1. -0. -0.  1. -0. -0.  1.  1. -0. -0.\n",
      " -0.  1.  1.  1.  1. -0.  1.]\n",
      "job_penalty = [-0. -0. -0. -0. -0. -0. -0. -0. -0. -0. -0. -0. -0. -0.  0. -0. -0. -0.\n",
      " -0. -0. -0. -0. -0. -0. -0.]\n",
      "finish_date = [25. 21. 14. 17. 13. 31. 17. 29. 19. -0. -0. 25. 29. -0. 34. 17. -0. -0.\n",
      " -0. 11. 27. 25. 11. -0. 13.]\n",
      "participate = [[ 1.  0.  1.  1.  0.  1.  0.  1.  1. -0. -0. -0. -0. -0. -0. -0. -0. -0.\n",
      "  -0. -0. -0. -0. -0. -0. -0.]\n",
      " [ 0.  1.  0. -0.  1.  1. -0.  1. -0. -0. -0.  1. -0. -0.  1.  1. -0.  0.\n",
      "  -0. -0. -0. -0. -0.  0. -0.]\n",
      " [ 0. -0. -0. -0.  1.  1.  1. -0.  1.  0.  0. -0. -0.  0.  1. -0. -0. -0.\n",
      "  -0.  1. -0. -0.  1.  0. -0.]\n",
      " [-0.  0. -0. -0.  1.  1. -0.  1.  1.  0.  0. -0. -0. -0.  1. -0. -0. -0.\n",
      "  -0.  1.  0.  1.  0. -0. -0.]\n",
      " [-0. -0. -0. -0. -0.  1.  1.  1. -0.  0.  0.  0. -0.  0.  1.  1.  0. -0.\n",
      "  -0.  0.  1. -0.  1. -0.  0.]\n",
      " [-0. -0. -0. -0. -0. -0. -0.  1.  1.  0.  0. -0. -0.  0. -0.  1. -0.  0.\n",
      "  -0. -0.  1.  1. -0.  0.  1.]]\n",
      "\n",
      "Solution 2 :  -785.0  7.0  34.0\n",
      "job_is_done = [-0.  0.  1.  1.  1.  1.  1.  1.  1.  0. -0.  1. -0. -0.  1.  1. -0.  0.\n",
      " -0.  1.  1.  1.  1.  0.  1.]\n",
      "job_penalty = [-0. -0. -0. -0. -0. -0. -0.  0.  0.  0.  0. -0. -0. -0.  0. -0.  0.  0.\n",
      "  0. -0.  0. -0.  0.  0. -0.]\n",
      "finish_date = [25. 21. 14. 17. 13. 31. 17. 29. 19.  0.  0. 25. -0. -0. 34. 17.  0.  0.\n",
      "  0. 11. 27. 25. 11.  0. 13.]\n",
      "participate = [[ 0.  1.  1.  1.  1.  1.  0.  1.  1.  0.  0. -0. -0. -0. -0. -0. -0. -0.\n",
      "  -0. -0. -0. -0. -0.  0. -0.]\n",
      " [-0.  1.  0.  0.  1.  1. -0.  1. -0.  0. -0.  1. -0. -0.  1.  1.  0. -0.\n",
      "  -0. -0.  0. -0. -0. -0. -0.]\n",
      " [-0.  0. -0. -0.  1.  1.  1. -0.  1. -0.  0. -0. -0. -0.  1. -0. -0.  0.\n",
      "  -0.  1. -0. -0.  1. -0. -0.]\n",
      " [-0.  0.  0. -0.  1.  0. -0.  1.  1. -0. -0.  0. -0. -0.  1. -0.  0. -0.\n",
      "  -0.  1.  1.  1.  0.  0. -0.]\n",
      " [-0. -0. -0. -0. -0.  1.  1.  1.  0.  0. -0. -0. -0. -0.  1.  1. -0.  0.\n",
      "  -0. -0.  1.  0.  1.  0.  0.]\n",
      " [-0. -0. -0. -0. -0. -0. -0.  1.  1. -0.  0. -0. -0. -0.  0.  1.  0.  0.\n",
      "   0. -0.  1.  1. -0.  0.  1.]]\n",
      "\n",
      "Solution 3 :  -770.0  8.0  33.0\n",
      "job_is_done = [-0.  1.  1.  1.  1.  1.  1.  1.  1.  0. -0.  1. -0. -0.  1.  1. -0. -0.\n",
      " -0.  1.  1.  1. -0.  0.  1.]\n",
      "job_penalty = [-0. -0. -0.  0. -0. -0. -0. -0.  0.  0.  0. -0. -0. -0.  0.  0. -0. 99.\n",
      "  0. -0.  0. -0. 99.  0. -0.]\n",
      "finish_date = [25. 21. 14. 17. 13. 31. 17. 29. 19. -0. -0. 25. -0. -0. 33. 17. 17. 33.\n",
      " -0. 11. 27. 25. 33. -0. 13.]\n",
      "participate = [[ 0.  1.  1.  1.  1.  1.  1.  1. -0. -0. -0. -0. -0. -0. -0. -0. -0. -0.\n",
      "   0. -0. -0. -0. -0. -0. -0.]\n",
      " [-0.  1.  0.  0.  1.  1. -0.  1.  0. -0. -0.  1. -0. -0.  1.  1.  1. -0.\n",
      "  -0. -0. -0. -0. -0. -0. -0.]\n",
      " [-0.  1. -0. -0.  1.  1.  1. -0.  1.  0. -0. -0. -0. -0.  1. -0.  0. -0.\n",
      "  -0.  1.  0. -0. -0. -0. -0.]\n",
      " [-0.  1. -0. -0.  1.  1. -0.  1.  1. -0. -0.  0. -0. -0.  1. -0.  0. -0.\n",
      "  -0.  1.  0.  1. -0. -0. -0.]\n",
      " [-0. -0. -0. -0. -0.  1.  1.  1. -0. -0. -0. -0. -0. -0.  1.  1. -0. -0.\n",
      "  -0. -0.  1.  0.  0. -0.  1.]\n",
      " [-0. -0. -0. -0. -0. -0. -0.  1.  1. -0. -0. -0. -0. -0.  1.  1.  0.  0.\n",
      "  -0.  1.  1.  1. -0. -0.  1.]]\n",
      "\n",
      "Solution 4 :  -770.0  8.0  34.0\n",
      "job_is_done = [-0.  1.  1.  1.  1.  1.  1.  1.  1. -0. -0.  1. -0. -0.  1.  1. -0. -0.\n",
      " -0.  1.  1.  1.  0. -0.  1.]\n",
      "job_penalty = [ -0.  -0.  -0.  -0.  -0.  -0.  -0.   0.   0.  -0.  -0.  -0.  -0.  -0.\n",
      "   0.  -0.   0. 102.   0.  -0.  -0.  -0.   0.  -0.   0.]\n",
      "finish_date = [-0. 21. 14. 17. 13. 31. 17. 29. 19. 28. 28. 25. -0. -0. 34. 17. -0. 34.\n",
      " -0. 11. 27. 25. -0. 13. 13.]\n",
      "participate = [[-0.  1.  1.  1.  1.  1. -0.  1.  1. -0. -0. -0. -0. -0. -0. -0. -0. -0.\n",
      "  -0. -0. -0. -0. -0. -0.  0.]\n",
      " [-0.  1.  0.  1.  1.  1. -0.  1. -0. -0. -0.  1. -0. -0.  1.  1. -0. -0.\n",
      "  -0. -0. -0. -0. -0. -0.  0.]\n",
      " [-0.  1. -0. -0.  1.  1.  1. -0.  1. -0. -0. -0. -0. -0.  1. -0. -0. -0.\n",
      "  -0.  1. -0. -0. -0. -0. -0.]\n",
      " [-0.  1.  0. -0.  1.  0. -0.  1.  1. -0. -0.  1. -0. -0.  1. -0.  0. -0.\n",
      "  -0.  1.  0.  1. -0. -0. -0.]\n",
      " [-0. -0. -0. -0. -0.  1.  1.  1. -0. -0. -0. -0. -0. -0.  1.  1. -0.  0.\n",
      "  -0. -0.  1.  1. -0.  0.  1.]\n",
      " [-0. -0. -0. -0. -0. -0. -0.  1.  1. -0. -0. -0. -0. -0.  1.  1. -0.  1.\n",
      "  -0.  0.  1.  1. -0.  0.  1.]]\n",
      "\n",
      "Solution 5 :  -710.0  6.0  35.0\n",
      "job_is_done = [-0. -0.  1.  1.  1.  1.  1.  1.  1. -0. -0.  1. -0. -0.  1.  1.  0.  1.\n",
      "  0.  1.  1.  1.  0.  0. -0.]\n",
      "job_penalty = [ -0.   0.  -0.  -0.   0.  -0.  -0.  -0.  -0.  -0.   0.  -0.  -0.   0.\n",
      "   0.  -0.   0.  -0.  -0.   0.  -0.  -0.   0.   0. 105.]\n",
      "finish_date = [12.  0. 14. 17. 13. 31. 17. 29. 19. -0. -0. 25.  0. -0. 35. 17. -0. 25.\n",
      " 17. 11. 27. 25. -0. -0. 35.]\n",
      "participate = [[-0.  0.  1.  1.  1.  1. -0.  1.  1. -0. -0. -0. -0. -0. -0. -0. -0. -0.\n",
      "  -0. -0. -0. -0. -0. -0. -0.]\n",
      " [-0. -0.  0.  1.  1.  1. -0.  0. -0. -0. -0.  1. -0. -0.  1.  1. -0. -0.\n",
      "  -0.  0. -0. -0. -0. -0. -0.]\n",
      " [-0.  0. -0. -0.  1.  1.  1. -0.  1. -0.  0. -0. -0. -0.  1. -0. -0. -0.\n",
      "   0.  1. -0. -0. -0.  0. -0.]\n",
      " [-0.  0. -0. -0.  1.  0. -0.  1.  1. -0. -0. -0. -0. -0.  1. -0. -0. -0.\n",
      "   0.  1.  0.  1. -0. -0. -0.]\n",
      " [-0. -0. -0. -0. -0. -0.  1. -0. -0. -0. -0. -0. -0.  0.  1.  1. -0.  0.\n",
      "   0.  0.  1.  1. -0. -0.  1.]\n",
      " [-0. -0. -0. -0. -0. -0. -0.  0.  1. -0. -0. -0. -0. -0.  0.  1. -0.  1.\n",
      "  -0. -0.  1.  1. -0. -0.  1.]]\n",
      "\n",
      "Solution 6 :  -685.0  6.0  31.0\n",
      "job_is_done = [ 0. -0.  1. -0.  1.  1.  1.  1.  1.  0. -0.  1. -0. -0.  0.  1.  0.  1.\n",
      "  1.  1.  1.  1. -0. -0. -0.]\n",
      "job_penalty = [-0. -0. -0. 93. -0. -0. -0. -0. -0. -0. -0. -0.  0. -0.  0. -0. -0. -0.\n",
      " -0. -0. -0. -0. -0. -0. -0.]\n",
      "finish_date = [25. 21. 15. 31. 13. 31. 17. 29. 19. 30. -0. 25. -0. 25. 31. 17. 17. 25.\n",
      " 17. 11. 26. 25. 11. 13. 13.]\n",
      "participate = [[ 0.  1.  1. -0.  1.  1. -0.  1.  1. -0. -0. -0. -0. -0. -0. -0. -0. -0.\n",
      "  -0. -0. -0. -0. -0. -0. -0.]\n",
      " [-0. -0.  1.  0.  1.  1. -0.  1. -0. -0. -0.  1. -0. -0.  0.  1.  0. -0.\n",
      "  -0. -0. -0. -0. -0. -0. -0.]\n",
      " [ 0.  0. -0. -0.  1.  1.  1. -0.  1. -0. -0. -0. -0. -0.  0. -0. -0. -0.\n",
      "   1.  1. -0. -0. -0. -0. -0.]\n",
      " [-0. -0. -0. -0.  1. -0. -0.  1. -0. -0. -0.  0. -0. -0.  0. -0.  0. -0.\n",
      "   1.  1.  1.  1. -0. -0. -0.]\n",
      " [-0. -0. -0. -0. -0. -0.  1. -0. -0.  1. -0. -0. -0. -0.  1.  1. -0. -0.\n",
      "   1. -0.  1. -0. -0. -0. -0.]\n",
      " [-0. -0. -0. -0. -0. -0. -0. -0.  1. -0. -0. -0. -0. -0. -0.  1. -0.  1.\n",
      "   1. -0.  1.  1. -0. -0. -0.]]\n",
      "\n",
      "Solution 7 :  -585.0  8.0  35.0\n",
      "job_is_done = [ 1.  0. -0.  1.  0.  1.  1.  1.  1.  1. -0.  1.  0. -0.  1.  1. -0.  1.\n",
      "  0. -0.  1.  1. -0. -0. -0.]\n",
      "job_penalty = [-0. -0. -0. -0. -0. -0. -0. -0. -0. -0. -0. -0. -0. -0.  0. -0. -0.  0.\n",
      " -0. -0.  0. -0. -0. -0. -0.]\n",
      "finish_date = [24. 21. 15. 17. 13. 29. 17. 29. 19. 30. 22. 25. 28. -0. 35. 17. 17. 25.\n",
      " 17. 11. 27. 22. 11. 13. 13.]\n",
      "participate = [[ 1.  1. -0.  1.  0.  1. -0.  1.  1.  1. -0. -0. -0. -0. -0. -0. -0. -0.\n",
      "  -0. -0. -0. -0. -0. -0. -0.]\n",
      " [ 1.  0. -0.  1.  0.  1. -0.  1. -0. -0. -0.  1.  1. -0.  1.  1. -0. -0.\n",
      "  -0. -0. -0. -0. -0. -0. -0.]\n",
      " [ 1.  1. -0. -0.  0.  1.  1. -0.  1. -0. -0. -0. -0. -0.  1. -0.  0. -0.\n",
      "   0. -0. -0. -0.  0. -0. -0.]\n",
      " [-0.  0. -0. -0.  0. -0. -0.  1. -0. -0. -0.  1.  0. -0.  1. -0. -0. -0.\n",
      "   1. -0.  1.  1. -0. -0. -0.]\n",
      " [-0. -0. -0. -0. -0. -0.  1. -0. -0.  1. -0. -0.  0. -0.  1.  1. -0.  1.\n",
      "   0. -0.  1.  1.  0.  0.  1.]\n",
      " [-0. -0. -0. -0. -0. -0. -0. -0.  1. -0. -0. -0.  0. -0.  1.  1. -0.  1.\n",
      "   1. -0.  1.  1. -0.  1. -0.]]\n",
      "\n",
      "Solution 8 :  -170.0  3.0  19.0\n",
      "job_is_done = [-0. -0. -0. -0.  1. -0. -0. -0. -0. -0.  1. -0. -0. -0.  1. -0. -0. -0.\n",
      " -0.  1. -0. -0. -0. -0. -0.]\n",
      "job_penalty = [-0. -0. -0. -0. -0. -0. -0. -0. -0. -0. -0. -0. -0. -0.  0. -0. -0. -0.\n",
      " -0. -0. -0. -0. -0. -0. 57.]\n",
      "finish_date = [ 1.  1.  1.  1. 12.  1.  1.  1.  1.  1. 19.  1.  1.  1. 19.  1.  1.  1.\n",
      "  1.  1.  1.  1.  1.  1. 19.]\n",
      "participate = [[-0. -0. -0. -0.  1. -0. -0. -0. -0. -0.  1. -0. -0. -0. -0. -0. -0. -0.\n",
      "  -0. -0. -0. -0. -0. -0. -0.]\n",
      " [ 0. -0.  0. -0.  1. -0.  0. -0. -0. -0. -0. -0. -0. -0.  1. -0. -0. -0.\n",
      "  -0. -0.  0. -0. -0.  0. -0.]\n",
      " [ 0.  0.  0.  0.  0. -0.  0.  0.  0.  0. -0.  0.  0.  0.  1.  0.  0. -0.\n",
      "   0.  1.  0.  0.  0.  0. -0.]\n",
      " [-0. -0. -0. -0.  1. -0. -0. -0. -0. -0.  0. -0. -0. -0. -0. -0. -0. -0.\n",
      "  -0.  1. -0. -0. -0. -0. -0.]\n",
      " [ 0. -0.  0.  0. -0.  0.  0.  0.  0.  0.  1.  0. -0.  0. -0.  0.  0.  0.\n",
      "   0.  1.  0.  0.  0.  0. -0.]\n",
      " [ 0. -0.  0.  0. -0.  0.  0.  0.  0.  0.  0.  0.  0.  0.  1.  0.  0.  0.\n",
      "   0.  1.  0.  0.  0.  0.  1.]]\n",
      "\n",
      "Solution 9 :  -150.0  2.0  19.0\n",
      "job_is_done = [-0. -0. -0. -0.  1. -0. -0. -0. -0. -0.  1. -0. -0. -0. -0. -0. -0. -0.\n",
      " -0.  1. -0. -0. -0. -0. -0.]\n",
      "job_penalty = [-0. -0. -0. -0.  0. -0. -0. -0. -0. -0. -0. -0. -0. -0.  0. -0. -0. -0.\n",
      " -0. -0. -0. -0. -0. -0. 57.]\n",
      "finish_date = [ 1.  1.  1.  1. 12.  1.  1.  1.  1.  1. 19.  1.  1.  1. 19.  1.  1.  1.\n",
      "  1.  1.  1.  1.  1.  1. 19.]\n",
      "participate = [[-0. -0. -0. -0.  1. -0. -0. -0. -0. -0.  1. -0. -0. -0.  0. -0. -0. -0.\n",
      "  -0. -0. -0. -0. -0. -0.  0.]\n",
      " [-0. -0. -0.  0.  1.  0.  0.  0.  0.  0.  0.  0.  0. -0. -0. -0.  0.  0.\n",
      "   0.  0.  0.  0.  0.  0.  0.]\n",
      " [-0. -0.  0.  0. -0.  0. -0.  0.  0.  0.  0.  0.  0.  0. -0.  0. -0.  0.\n",
      "  -0.  1.  0.  0.  0.  0.  0.]\n",
      " [ 0. -0.  0.  0.  1.  0.  0.  0.  0.  0.  0. -0. -0. -0. -0.  0. -0.  0.\n",
      "  -0.  1.  0.  0.  0.  0.  0.]\n",
      " [ 0.  0.  0.  0.  0.  0.  0.  0. -0. -0.  1.  0.  0. -0.  0.  0.  0. -0.\n",
      "  -0.  1.  0. -0. -0.  0. -0.]\n",
      " [ 0.  0.  0.  0.  0.  0.  0.  0. -0.  0.  0.  0. -0.  0. -0.  0.  0.  0.\n",
      "   0.  1.  0. -0.  0.  0.  1.]]\n",
      "\n"
     ]
    }
   ],
   "source": [
    "# Objectifs \n",
    "\n",
    "# Objectif 1\n",
    "m.setObjectiveN(-job_profit.sum(), 0, 0)\n",
    "\n",
    "# Objectif 2\n",
    "m.setObjectiveN(max_job_per_staff, 1, 0)\n",
    "\n",
    "# Objectif 3\n",
    "m.setObjectiveN(max_len_job, 2, 0)\n",
    "\n",
    "m.params.outputflag = 0\n",
    "m.optimize()\n",
    "\n",
    "# Query number of multiple objectives, and number of solutions\n",
    "nSolutions  = m.SolCount\n",
    "nObjectives = m.NumObj\n",
    "print('Problem has', nObjectives, 'objectives')\n",
    "print('Gurobi found', nSolutions, 'solutions')\n",
    "print(' ')\n",
    "\n",
    "# For each solution, print value of first three variables, and\n",
    "# value for each objective function\n",
    "solutions = []\n",
    "for s in range(nSolutions):\n",
    "    # Set which solution we will query from now on\n",
    "    m.params.SolutionNumber = s\n",
    "\n",
    "    # Print objective value of this solution in each objective\n",
    "    print('Solution', s, ':', end='')\n",
    "    vect = []\n",
    "    for o in range(nObjectives):\n",
    "        # Set which objective we will query\n",
    "        m.params.ObjNumber = o\n",
    "        vect.append(m.ObjNVal)\n",
    "        # Query the o-th objective value\n",
    "        print(' ',m.ObjNVal, end='')\n",
    "    solutions.append(vect)\n",
    "    \n",
    "    # print variable vlaues for this solution\n",
    "    print('')\n",
    "    print('job_is_done = {}'.format(job_is_done.Xn))\n",
    "    print('job_penalty = {}'.format(job_penalty.Xn))\n",
    "    print('finish_date = {}'.format(finish_date.Xn))\n",
    "    print('participate = {}'.format(participate.Xn))\n",
    "    print('')\n",
    "solutions = np.array(solutions)"
   ]
  },
  {
   "cell_type": "code",
   "execution_count": 12,
   "metadata": {},
   "outputs": [],
   "source": [
    "solutions = solutions.astype(int)"
   ]
  },
  {
   "cell_type": "markdown",
   "metadata": {},
   "source": [
    "## Plot"
   ]
  },
  {
   "cell_type": "code",
   "execution_count": 35,
   "metadata": {},
   "outputs": [],
   "source": [
    "def ND(table):\n",
    "    set_ND = set()\n",
    "    set_rest = set()\n",
    "    for i in range(len(x)):\n",
    "        add = True\n",
    "        for j in range(len(x)):\n",
    "            if(i != j and table[i][0] >= table[j][0] and table[i][1] >= table[j][1] and table[i][2] >= table[j][2]):\n",
    "                add = False\n",
    "        if(add):\n",
    "            set_ND.add(i)\n",
    "        else:\n",
    "            set_rest.add(i)\n",
    "    \n",
    "    return set_ND,set_rest\n",
    "\n",
    "def projection(table,vect=np.array([1,0,0])):\n",
    "    vect = vect/np.linalg.norm(vect)\n",
    "    print(vect)\n",
    "    ponderation = np.sum(table*vect,axis=1,keepdims=True)\n",
    "    print(ponderation)\n",
    "    return ponderation *vect"
   ]
  },
  {
   "cell_type": "code",
   "execution_count": 45,
   "metadata": {},
   "outputs": [],
   "source": [
    "w_x,w_y,w_z = 0.6,0.3,0.1\n",
    "x,y,z = solutions[:,0],solutions[:,1],solutions[:,2]\n",
    "x_min,y_min,z_min = min(x),min(y),min(z)\n",
    "x_max,y_max,z_max = max(x),max(y),max(z)\n",
    "set_ND,set_rest = ND(solutions)\n",
    "x_ND,y_ND,z_ND = [x[i] for i in set_ND],[y[i] for i in set_ND],[z[i] for i in set_ND]\n",
    "x_rest,y_rest,z_rest = [x[i] for i in set_rest],[y[i] for i in set_rest],[z[i] for i in set_rest]"
   ]
  },
  {
   "cell_type": "code",
   "execution_count": 48,
   "metadata": {},
   "outputs": [
    {
     "name": "stdout",
     "output_type": "stream",
     "text": [
      "[0.26726124 0.53452248 0.80178373]\n",
      "[[-183.34121195]\n",
      " [-175.05611345]\n",
      " [-155.01152031]\n",
      " [ -28.59695288]\n",
      " [ -23.78625053]]\n",
      "[0.26726124 0.53452248 0.80178373]\n",
      "[[-182.80668947]\n",
      " [-178.79777084]\n",
      " [-174.25432973]\n",
      " [-158.48591645]\n",
      " [-124.00921625]]\n"
     ]
    },
    {
     "data": {
      "application/vnd.plotly.v1+json": {
       "config": {
        "plotlyServerURL": "https://plot.ly"
       },
       "data": [
        {
         "marker": {
          "color": "blue",
          "colorscale": [
           [
            0,
            "#440154"
           ],
           [
            0.1111111111111111,
            "#482878"
           ],
           [
            0.2222222222222222,
            "#3e4989"
           ],
           [
            0.3333333333333333,
            "#31688e"
           ],
           [
            0.4444444444444444,
            "#26828e"
           ],
           [
            0.5555555555555556,
            "#1f9e89"
           ],
           [
            0.6666666666666666,
            "#35b779"
           ],
           [
            0.7777777777777778,
            "#6ece58"
           ],
           [
            0.8888888888888888,
            "#b5de2b"
           ],
           [
            1,
            "#fde725"
           ]
          ],
          "opacity": 0.8,
          "size": 12
         },
         "mode": "markers",
         "name": "solutions ND",
         "type": "scatter3d",
         "x": [
          -800,
          -770,
          -685,
          -170,
          -150
         ],
         "y": [
          6,
          8,
          6,
          3,
          2
         ],
         "z": [
          34,
          33,
          31,
          19,
          19
         ]
        },
        {
         "marker": {
          "color": "black",
          "colorscale": [
           [
            0,
            "#440154"
           ],
           [
            0.1111111111111111,
            "#482878"
           ],
           [
            0.2222222222222222,
            "#3e4989"
           ],
           [
            0.3333333333333333,
            "#31688e"
           ],
           [
            0.4444444444444444,
            "#26828e"
           ],
           [
            0.5555555555555556,
            "#1f9e89"
           ],
           [
            0.6666666666666666,
            "#35b779"
           ],
           [
            0.7777777777777778,
            "#6ece58"
           ],
           [
            0.8888888888888888,
            "#b5de2b"
           ],
           [
            1,
            "#fde725"
           ]
          ],
          "opacity": 0.8,
          "size": 12
         },
         "mode": "markers",
         "name": "solutions fND\\ND",
         "type": "scatter3d",
         "x": [
          -800,
          -785,
          -770,
          -710,
          -585
         ],
         "y": [
          7,
          7,
          8,
          6,
          8
         ],
         "z": [
          34,
          34,
          34,
          35,
          35
         ]
        }
       ],
       "layout": {
        "margin": {
         "b": 10,
         "l": 10,
         "r": 20,
         "t": 10
        },
        "scene": {
         "xaxis": {
          "title": {
           "text": "-job profit"
          }
         },
         "yaxis": {
          "title": {
           "text": "max job per staff"
          }
         },
         "zaxis": {
          "title": {
           "text": "max len job"
          }
         }
        },
        "template": {
         "data": {
          "bar": [
           {
            "error_x": {
             "color": "#2a3f5f"
            },
            "error_y": {
             "color": "#2a3f5f"
            },
            "marker": {
             "line": {
              "color": "#E5ECF6",
              "width": 0.5
             },
             "pattern": {
              "fillmode": "overlay",
              "size": 10,
              "solidity": 0.2
             }
            },
            "type": "bar"
           }
          ],
          "barpolar": [
           {
            "marker": {
             "line": {
              "color": "#E5ECF6",
              "width": 0.5
             },
             "pattern": {
              "fillmode": "overlay",
              "size": 10,
              "solidity": 0.2
             }
            },
            "type": "barpolar"
           }
          ],
          "carpet": [
           {
            "aaxis": {
             "endlinecolor": "#2a3f5f",
             "gridcolor": "white",
             "linecolor": "white",
             "minorgridcolor": "white",
             "startlinecolor": "#2a3f5f"
            },
            "baxis": {
             "endlinecolor": "#2a3f5f",
             "gridcolor": "white",
             "linecolor": "white",
             "minorgridcolor": "white",
             "startlinecolor": "#2a3f5f"
            },
            "type": "carpet"
           }
          ],
          "choropleth": [
           {
            "colorbar": {
             "outlinewidth": 0,
             "ticks": ""
            },
            "type": "choropleth"
           }
          ],
          "contour": [
           {
            "colorbar": {
             "outlinewidth": 0,
             "ticks": ""
            },
            "colorscale": [
             [
              0,
              "#0d0887"
             ],
             [
              0.1111111111111111,
              "#46039f"
             ],
             [
              0.2222222222222222,
              "#7201a8"
             ],
             [
              0.3333333333333333,
              "#9c179e"
             ],
             [
              0.4444444444444444,
              "#bd3786"
             ],
             [
              0.5555555555555556,
              "#d8576b"
             ],
             [
              0.6666666666666666,
              "#ed7953"
             ],
             [
              0.7777777777777778,
              "#fb9f3a"
             ],
             [
              0.8888888888888888,
              "#fdca26"
             ],
             [
              1,
              "#f0f921"
             ]
            ],
            "type": "contour"
           }
          ],
          "contourcarpet": [
           {
            "colorbar": {
             "outlinewidth": 0,
             "ticks": ""
            },
            "type": "contourcarpet"
           }
          ],
          "heatmap": [
           {
            "colorbar": {
             "outlinewidth": 0,
             "ticks": ""
            },
            "colorscale": [
             [
              0,
              "#0d0887"
             ],
             [
              0.1111111111111111,
              "#46039f"
             ],
             [
              0.2222222222222222,
              "#7201a8"
             ],
             [
              0.3333333333333333,
              "#9c179e"
             ],
             [
              0.4444444444444444,
              "#bd3786"
             ],
             [
              0.5555555555555556,
              "#d8576b"
             ],
             [
              0.6666666666666666,
              "#ed7953"
             ],
             [
              0.7777777777777778,
              "#fb9f3a"
             ],
             [
              0.8888888888888888,
              "#fdca26"
             ],
             [
              1,
              "#f0f921"
             ]
            ],
            "type": "heatmap"
           }
          ],
          "heatmapgl": [
           {
            "colorbar": {
             "outlinewidth": 0,
             "ticks": ""
            },
            "colorscale": [
             [
              0,
              "#0d0887"
             ],
             [
              0.1111111111111111,
              "#46039f"
             ],
             [
              0.2222222222222222,
              "#7201a8"
             ],
             [
              0.3333333333333333,
              "#9c179e"
             ],
             [
              0.4444444444444444,
              "#bd3786"
             ],
             [
              0.5555555555555556,
              "#d8576b"
             ],
             [
              0.6666666666666666,
              "#ed7953"
             ],
             [
              0.7777777777777778,
              "#fb9f3a"
             ],
             [
              0.8888888888888888,
              "#fdca26"
             ],
             [
              1,
              "#f0f921"
             ]
            ],
            "type": "heatmapgl"
           }
          ],
          "histogram": [
           {
            "marker": {
             "pattern": {
              "fillmode": "overlay",
              "size": 10,
              "solidity": 0.2
             }
            },
            "type": "histogram"
           }
          ],
          "histogram2d": [
           {
            "colorbar": {
             "outlinewidth": 0,
             "ticks": ""
            },
            "colorscale": [
             [
              0,
              "#0d0887"
             ],
             [
              0.1111111111111111,
              "#46039f"
             ],
             [
              0.2222222222222222,
              "#7201a8"
             ],
             [
              0.3333333333333333,
              "#9c179e"
             ],
             [
              0.4444444444444444,
              "#bd3786"
             ],
             [
              0.5555555555555556,
              "#d8576b"
             ],
             [
              0.6666666666666666,
              "#ed7953"
             ],
             [
              0.7777777777777778,
              "#fb9f3a"
             ],
             [
              0.8888888888888888,
              "#fdca26"
             ],
             [
              1,
              "#f0f921"
             ]
            ],
            "type": "histogram2d"
           }
          ],
          "histogram2dcontour": [
           {
            "colorbar": {
             "outlinewidth": 0,
             "ticks": ""
            },
            "colorscale": [
             [
              0,
              "#0d0887"
             ],
             [
              0.1111111111111111,
              "#46039f"
             ],
             [
              0.2222222222222222,
              "#7201a8"
             ],
             [
              0.3333333333333333,
              "#9c179e"
             ],
             [
              0.4444444444444444,
              "#bd3786"
             ],
             [
              0.5555555555555556,
              "#d8576b"
             ],
             [
              0.6666666666666666,
              "#ed7953"
             ],
             [
              0.7777777777777778,
              "#fb9f3a"
             ],
             [
              0.8888888888888888,
              "#fdca26"
             ],
             [
              1,
              "#f0f921"
             ]
            ],
            "type": "histogram2dcontour"
           }
          ],
          "mesh3d": [
           {
            "colorbar": {
             "outlinewidth": 0,
             "ticks": ""
            },
            "type": "mesh3d"
           }
          ],
          "parcoords": [
           {
            "line": {
             "colorbar": {
              "outlinewidth": 0,
              "ticks": ""
             }
            },
            "type": "parcoords"
           }
          ],
          "pie": [
           {
            "automargin": true,
            "type": "pie"
           }
          ],
          "scatter": [
           {
            "fillpattern": {
             "fillmode": "overlay",
             "size": 10,
             "solidity": 0.2
            },
            "type": "scatter"
           }
          ],
          "scatter3d": [
           {
            "line": {
             "colorbar": {
              "outlinewidth": 0,
              "ticks": ""
             }
            },
            "marker": {
             "colorbar": {
              "outlinewidth": 0,
              "ticks": ""
             }
            },
            "type": "scatter3d"
           }
          ],
          "scattercarpet": [
           {
            "marker": {
             "colorbar": {
              "outlinewidth": 0,
              "ticks": ""
             }
            },
            "type": "scattercarpet"
           }
          ],
          "scattergeo": [
           {
            "marker": {
             "colorbar": {
              "outlinewidth": 0,
              "ticks": ""
             }
            },
            "type": "scattergeo"
           }
          ],
          "scattergl": [
           {
            "marker": {
             "colorbar": {
              "outlinewidth": 0,
              "ticks": ""
             }
            },
            "type": "scattergl"
           }
          ],
          "scattermapbox": [
           {
            "marker": {
             "colorbar": {
              "outlinewidth": 0,
              "ticks": ""
             }
            },
            "type": "scattermapbox"
           }
          ],
          "scatterpolar": [
           {
            "marker": {
             "colorbar": {
              "outlinewidth": 0,
              "ticks": ""
             }
            },
            "type": "scatterpolar"
           }
          ],
          "scatterpolargl": [
           {
            "marker": {
             "colorbar": {
              "outlinewidth": 0,
              "ticks": ""
             }
            },
            "type": "scatterpolargl"
           }
          ],
          "scatterternary": [
           {
            "marker": {
             "colorbar": {
              "outlinewidth": 0,
              "ticks": ""
             }
            },
            "type": "scatterternary"
           }
          ],
          "surface": [
           {
            "colorbar": {
             "outlinewidth": 0,
             "ticks": ""
            },
            "colorscale": [
             [
              0,
              "#0d0887"
             ],
             [
              0.1111111111111111,
              "#46039f"
             ],
             [
              0.2222222222222222,
              "#7201a8"
             ],
             [
              0.3333333333333333,
              "#9c179e"
             ],
             [
              0.4444444444444444,
              "#bd3786"
             ],
             [
              0.5555555555555556,
              "#d8576b"
             ],
             [
              0.6666666666666666,
              "#ed7953"
             ],
             [
              0.7777777777777778,
              "#fb9f3a"
             ],
             [
              0.8888888888888888,
              "#fdca26"
             ],
             [
              1,
              "#f0f921"
             ]
            ],
            "type": "surface"
           }
          ],
          "table": [
           {
            "cells": {
             "fill": {
              "color": "#EBF0F8"
             },
             "line": {
              "color": "white"
             }
            },
            "header": {
             "fill": {
              "color": "#C8D4E3"
             },
             "line": {
              "color": "white"
             }
            },
            "type": "table"
           }
          ]
         },
         "layout": {
          "annotationdefaults": {
           "arrowcolor": "#2a3f5f",
           "arrowhead": 0,
           "arrowwidth": 1
          },
          "autotypenumbers": "strict",
          "coloraxis": {
           "colorbar": {
            "outlinewidth": 0,
            "ticks": ""
           }
          },
          "colorscale": {
           "diverging": [
            [
             0,
             "#8e0152"
            ],
            [
             0.1,
             "#c51b7d"
            ],
            [
             0.2,
             "#de77ae"
            ],
            [
             0.3,
             "#f1b6da"
            ],
            [
             0.4,
             "#fde0ef"
            ],
            [
             0.5,
             "#f7f7f7"
            ],
            [
             0.6,
             "#e6f5d0"
            ],
            [
             0.7,
             "#b8e186"
            ],
            [
             0.8,
             "#7fbc41"
            ],
            [
             0.9,
             "#4d9221"
            ],
            [
             1,
             "#276419"
            ]
           ],
           "sequential": [
            [
             0,
             "#0d0887"
            ],
            [
             0.1111111111111111,
             "#46039f"
            ],
            [
             0.2222222222222222,
             "#7201a8"
            ],
            [
             0.3333333333333333,
             "#9c179e"
            ],
            [
             0.4444444444444444,
             "#bd3786"
            ],
            [
             0.5555555555555556,
             "#d8576b"
            ],
            [
             0.6666666666666666,
             "#ed7953"
            ],
            [
             0.7777777777777778,
             "#fb9f3a"
            ],
            [
             0.8888888888888888,
             "#fdca26"
            ],
            [
             1,
             "#f0f921"
            ]
           ],
           "sequentialminus": [
            [
             0,
             "#0d0887"
            ],
            [
             0.1111111111111111,
             "#46039f"
            ],
            [
             0.2222222222222222,
             "#7201a8"
            ],
            [
             0.3333333333333333,
             "#9c179e"
            ],
            [
             0.4444444444444444,
             "#bd3786"
            ],
            [
             0.5555555555555556,
             "#d8576b"
            ],
            [
             0.6666666666666666,
             "#ed7953"
            ],
            [
             0.7777777777777778,
             "#fb9f3a"
            ],
            [
             0.8888888888888888,
             "#fdca26"
            ],
            [
             1,
             "#f0f921"
            ]
           ]
          },
          "colorway": [
           "#636efa",
           "#EF553B",
           "#00cc96",
           "#ab63fa",
           "#FFA15A",
           "#19d3f3",
           "#FF6692",
           "#B6E880",
           "#FF97FF",
           "#FECB52"
          ],
          "font": {
           "color": "#2a3f5f"
          },
          "geo": {
           "bgcolor": "white",
           "lakecolor": "white",
           "landcolor": "#E5ECF6",
           "showlakes": true,
           "showland": true,
           "subunitcolor": "white"
          },
          "hoverlabel": {
           "align": "left"
          },
          "hovermode": "closest",
          "mapbox": {
           "style": "light"
          },
          "paper_bgcolor": "white",
          "plot_bgcolor": "#E5ECF6",
          "polar": {
           "angularaxis": {
            "gridcolor": "white",
            "linecolor": "white",
            "ticks": ""
           },
           "bgcolor": "#E5ECF6",
           "radialaxis": {
            "gridcolor": "white",
            "linecolor": "white",
            "ticks": ""
           }
          },
          "scene": {
           "xaxis": {
            "backgroundcolor": "#E5ECF6",
            "gridcolor": "white",
            "gridwidth": 2,
            "linecolor": "white",
            "showbackground": true,
            "ticks": "",
            "zerolinecolor": "white"
           },
           "yaxis": {
            "backgroundcolor": "#E5ECF6",
            "gridcolor": "white",
            "gridwidth": 2,
            "linecolor": "white",
            "showbackground": true,
            "ticks": "",
            "zerolinecolor": "white"
           },
           "zaxis": {
            "backgroundcolor": "#E5ECF6",
            "gridcolor": "white",
            "gridwidth": 2,
            "linecolor": "white",
            "showbackground": true,
            "ticks": "",
            "zerolinecolor": "white"
           }
          },
          "shapedefaults": {
           "line": {
            "color": "#2a3f5f"
           }
          },
          "ternary": {
           "aaxis": {
            "gridcolor": "white",
            "linecolor": "white",
            "ticks": ""
           },
           "baxis": {
            "gridcolor": "white",
            "linecolor": "white",
            "ticks": ""
           },
           "bgcolor": "#E5ECF6",
           "caxis": {
            "gridcolor": "white",
            "linecolor": "white",
            "ticks": ""
           }
          },
          "title": {
           "x": 0.05
          },
          "xaxis": {
           "automargin": true,
           "gridcolor": "white",
           "linecolor": "white",
           "ticks": "",
           "title": {
            "standoff": 15
           },
           "zerolinecolor": "white",
           "zerolinewidth": 2
          },
          "yaxis": {
           "automargin": true,
           "gridcolor": "white",
           "linecolor": "white",
           "ticks": "",
           "title": {
            "standoff": 15
           },
           "zerolinecolor": "white",
           "zerolinewidth": 2
          }
         }
        },
        "width": 700
       }
      },
      "text/html": [
       "<div>                            <div id=\"48497ffb-e457-483a-bad7-b7b685ae3af7\" class=\"plotly-graph-div\" style=\"height:525px; width:700px;\"></div>            <script type=\"text/javascript\">                require([\"plotly\"], function(Plotly) {                    window.PLOTLYENV=window.PLOTLYENV || {};                                    if (document.getElementById(\"48497ffb-e457-483a-bad7-b7b685ae3af7\")) {                    Plotly.newPlot(                        \"48497ffb-e457-483a-bad7-b7b685ae3af7\",                        [{\"marker\":{\"color\":\"blue\",\"colorscale\":[[0.0,\"#440154\"],[0.1111111111111111,\"#482878\"],[0.2222222222222222,\"#3e4989\"],[0.3333333333333333,\"#31688e\"],[0.4444444444444444,\"#26828e\"],[0.5555555555555556,\"#1f9e89\"],[0.6666666666666666,\"#35b779\"],[0.7777777777777778,\"#6ece58\"],[0.8888888888888888,\"#b5de2b\"],[1.0,\"#fde725\"]],\"opacity\":0.8,\"size\":12},\"mode\":\"markers\",\"name\":\"solutions ND\",\"x\":[-800,-770,-685,-170,-150],\"y\":[6,8,6,3,2],\"z\":[34,33,31,19,19],\"type\":\"scatter3d\"},{\"marker\":{\"color\":\"black\",\"colorscale\":[[0.0,\"#440154\"],[0.1111111111111111,\"#482878\"],[0.2222222222222222,\"#3e4989\"],[0.3333333333333333,\"#31688e\"],[0.4444444444444444,\"#26828e\"],[0.5555555555555556,\"#1f9e89\"],[0.6666666666666666,\"#35b779\"],[0.7777777777777778,\"#6ece58\"],[0.8888888888888888,\"#b5de2b\"],[1.0,\"#fde725\"]],\"opacity\":0.8,\"size\":12},\"mode\":\"markers\",\"name\":\"solutions fND\\\\ND\",\"x\":[-800,-785,-770,-710,-585],\"y\":[7,7,8,6,8],\"z\":[34,34,34,35,35],\"type\":\"scatter3d\"}],                        {\"template\":{\"data\":{\"histogram2dcontour\":[{\"type\":\"histogram2dcontour\",\"colorbar\":{\"outlinewidth\":0,\"ticks\":\"\"},\"colorscale\":[[0.0,\"#0d0887\"],[0.1111111111111111,\"#46039f\"],[0.2222222222222222,\"#7201a8\"],[0.3333333333333333,\"#9c179e\"],[0.4444444444444444,\"#bd3786\"],[0.5555555555555556,\"#d8576b\"],[0.6666666666666666,\"#ed7953\"],[0.7777777777777778,\"#fb9f3a\"],[0.8888888888888888,\"#fdca26\"],[1.0,\"#f0f921\"]]}],\"choropleth\":[{\"type\":\"choropleth\",\"colorbar\":{\"outlinewidth\":0,\"ticks\":\"\"}}],\"histogram2d\":[{\"type\":\"histogram2d\",\"colorbar\":{\"outlinewidth\":0,\"ticks\":\"\"},\"colorscale\":[[0.0,\"#0d0887\"],[0.1111111111111111,\"#46039f\"],[0.2222222222222222,\"#7201a8\"],[0.3333333333333333,\"#9c179e\"],[0.4444444444444444,\"#bd3786\"],[0.5555555555555556,\"#d8576b\"],[0.6666666666666666,\"#ed7953\"],[0.7777777777777778,\"#fb9f3a\"],[0.8888888888888888,\"#fdca26\"],[1.0,\"#f0f921\"]]}],\"heatmap\":[{\"type\":\"heatmap\",\"colorbar\":{\"outlinewidth\":0,\"ticks\":\"\"},\"colorscale\":[[0.0,\"#0d0887\"],[0.1111111111111111,\"#46039f\"],[0.2222222222222222,\"#7201a8\"],[0.3333333333333333,\"#9c179e\"],[0.4444444444444444,\"#bd3786\"],[0.5555555555555556,\"#d8576b\"],[0.6666666666666666,\"#ed7953\"],[0.7777777777777778,\"#fb9f3a\"],[0.8888888888888888,\"#fdca26\"],[1.0,\"#f0f921\"]]}],\"heatmapgl\":[{\"type\":\"heatmapgl\",\"colorbar\":{\"outlinewidth\":0,\"ticks\":\"\"},\"colorscale\":[[0.0,\"#0d0887\"],[0.1111111111111111,\"#46039f\"],[0.2222222222222222,\"#7201a8\"],[0.3333333333333333,\"#9c179e\"],[0.4444444444444444,\"#bd3786\"],[0.5555555555555556,\"#d8576b\"],[0.6666666666666666,\"#ed7953\"],[0.7777777777777778,\"#fb9f3a\"],[0.8888888888888888,\"#fdca26\"],[1.0,\"#f0f921\"]]}],\"contourcarpet\":[{\"type\":\"contourcarpet\",\"colorbar\":{\"outlinewidth\":0,\"ticks\":\"\"}}],\"contour\":[{\"type\":\"contour\",\"colorbar\":{\"outlinewidth\":0,\"ticks\":\"\"},\"colorscale\":[[0.0,\"#0d0887\"],[0.1111111111111111,\"#46039f\"],[0.2222222222222222,\"#7201a8\"],[0.3333333333333333,\"#9c179e\"],[0.4444444444444444,\"#bd3786\"],[0.5555555555555556,\"#d8576b\"],[0.6666666666666666,\"#ed7953\"],[0.7777777777777778,\"#fb9f3a\"],[0.8888888888888888,\"#fdca26\"],[1.0,\"#f0f921\"]]}],\"surface\":[{\"type\":\"surface\",\"colorbar\":{\"outlinewidth\":0,\"ticks\":\"\"},\"colorscale\":[[0.0,\"#0d0887\"],[0.1111111111111111,\"#46039f\"],[0.2222222222222222,\"#7201a8\"],[0.3333333333333333,\"#9c179e\"],[0.4444444444444444,\"#bd3786\"],[0.5555555555555556,\"#d8576b\"],[0.6666666666666666,\"#ed7953\"],[0.7777777777777778,\"#fb9f3a\"],[0.8888888888888888,\"#fdca26\"],[1.0,\"#f0f921\"]]}],\"mesh3d\":[{\"type\":\"mesh3d\",\"colorbar\":{\"outlinewidth\":0,\"ticks\":\"\"}}],\"scatter\":[{\"fillpattern\":{\"fillmode\":\"overlay\",\"size\":10,\"solidity\":0.2},\"type\":\"scatter\"}],\"parcoords\":[{\"type\":\"parcoords\",\"line\":{\"colorbar\":{\"outlinewidth\":0,\"ticks\":\"\"}}}],\"scatterpolargl\":[{\"type\":\"scatterpolargl\",\"marker\":{\"colorbar\":{\"outlinewidth\":0,\"ticks\":\"\"}}}],\"bar\":[{\"error_x\":{\"color\":\"#2a3f5f\"},\"error_y\":{\"color\":\"#2a3f5f\"},\"marker\":{\"line\":{\"color\":\"#E5ECF6\",\"width\":0.5},\"pattern\":{\"fillmode\":\"overlay\",\"size\":10,\"solidity\":0.2}},\"type\":\"bar\"}],\"scattergeo\":[{\"type\":\"scattergeo\",\"marker\":{\"colorbar\":{\"outlinewidth\":0,\"ticks\":\"\"}}}],\"scatterpolar\":[{\"type\":\"scatterpolar\",\"marker\":{\"colorbar\":{\"outlinewidth\":0,\"ticks\":\"\"}}}],\"histogram\":[{\"marker\":{\"pattern\":{\"fillmode\":\"overlay\",\"size\":10,\"solidity\":0.2}},\"type\":\"histogram\"}],\"scattergl\":[{\"type\":\"scattergl\",\"marker\":{\"colorbar\":{\"outlinewidth\":0,\"ticks\":\"\"}}}],\"scatter3d\":[{\"type\":\"scatter3d\",\"line\":{\"colorbar\":{\"outlinewidth\":0,\"ticks\":\"\"}},\"marker\":{\"colorbar\":{\"outlinewidth\":0,\"ticks\":\"\"}}}],\"scattermapbox\":[{\"type\":\"scattermapbox\",\"marker\":{\"colorbar\":{\"outlinewidth\":0,\"ticks\":\"\"}}}],\"scatterternary\":[{\"type\":\"scatterternary\",\"marker\":{\"colorbar\":{\"outlinewidth\":0,\"ticks\":\"\"}}}],\"scattercarpet\":[{\"type\":\"scattercarpet\",\"marker\":{\"colorbar\":{\"outlinewidth\":0,\"ticks\":\"\"}}}],\"carpet\":[{\"aaxis\":{\"endlinecolor\":\"#2a3f5f\",\"gridcolor\":\"white\",\"linecolor\":\"white\",\"minorgridcolor\":\"white\",\"startlinecolor\":\"#2a3f5f\"},\"baxis\":{\"endlinecolor\":\"#2a3f5f\",\"gridcolor\":\"white\",\"linecolor\":\"white\",\"minorgridcolor\":\"white\",\"startlinecolor\":\"#2a3f5f\"},\"type\":\"carpet\"}],\"table\":[{\"cells\":{\"fill\":{\"color\":\"#EBF0F8\"},\"line\":{\"color\":\"white\"}},\"header\":{\"fill\":{\"color\":\"#C8D4E3\"},\"line\":{\"color\":\"white\"}},\"type\":\"table\"}],\"barpolar\":[{\"marker\":{\"line\":{\"color\":\"#E5ECF6\",\"width\":0.5},\"pattern\":{\"fillmode\":\"overlay\",\"size\":10,\"solidity\":0.2}},\"type\":\"barpolar\"}],\"pie\":[{\"automargin\":true,\"type\":\"pie\"}]},\"layout\":{\"autotypenumbers\":\"strict\",\"colorway\":[\"#636efa\",\"#EF553B\",\"#00cc96\",\"#ab63fa\",\"#FFA15A\",\"#19d3f3\",\"#FF6692\",\"#B6E880\",\"#FF97FF\",\"#FECB52\"],\"font\":{\"color\":\"#2a3f5f\"},\"hovermode\":\"closest\",\"hoverlabel\":{\"align\":\"left\"},\"paper_bgcolor\":\"white\",\"plot_bgcolor\":\"#E5ECF6\",\"polar\":{\"bgcolor\":\"#E5ECF6\",\"angularaxis\":{\"gridcolor\":\"white\",\"linecolor\":\"white\",\"ticks\":\"\"},\"radialaxis\":{\"gridcolor\":\"white\",\"linecolor\":\"white\",\"ticks\":\"\"}},\"ternary\":{\"bgcolor\":\"#E5ECF6\",\"aaxis\":{\"gridcolor\":\"white\",\"linecolor\":\"white\",\"ticks\":\"\"},\"baxis\":{\"gridcolor\":\"white\",\"linecolor\":\"white\",\"ticks\":\"\"},\"caxis\":{\"gridcolor\":\"white\",\"linecolor\":\"white\",\"ticks\":\"\"}},\"coloraxis\":{\"colorbar\":{\"outlinewidth\":0,\"ticks\":\"\"}},\"colorscale\":{\"sequential\":[[0.0,\"#0d0887\"],[0.1111111111111111,\"#46039f\"],[0.2222222222222222,\"#7201a8\"],[0.3333333333333333,\"#9c179e\"],[0.4444444444444444,\"#bd3786\"],[0.5555555555555556,\"#d8576b\"],[0.6666666666666666,\"#ed7953\"],[0.7777777777777778,\"#fb9f3a\"],[0.8888888888888888,\"#fdca26\"],[1.0,\"#f0f921\"]],\"sequentialminus\":[[0.0,\"#0d0887\"],[0.1111111111111111,\"#46039f\"],[0.2222222222222222,\"#7201a8\"],[0.3333333333333333,\"#9c179e\"],[0.4444444444444444,\"#bd3786\"],[0.5555555555555556,\"#d8576b\"],[0.6666666666666666,\"#ed7953\"],[0.7777777777777778,\"#fb9f3a\"],[0.8888888888888888,\"#fdca26\"],[1.0,\"#f0f921\"]],\"diverging\":[[0,\"#8e0152\"],[0.1,\"#c51b7d\"],[0.2,\"#de77ae\"],[0.3,\"#f1b6da\"],[0.4,\"#fde0ef\"],[0.5,\"#f7f7f7\"],[0.6,\"#e6f5d0\"],[0.7,\"#b8e186\"],[0.8,\"#7fbc41\"],[0.9,\"#4d9221\"],[1,\"#276419\"]]},\"xaxis\":{\"gridcolor\":\"white\",\"linecolor\":\"white\",\"ticks\":\"\",\"title\":{\"standoff\":15},\"zerolinecolor\":\"white\",\"automargin\":true,\"zerolinewidth\":2},\"yaxis\":{\"gridcolor\":\"white\",\"linecolor\":\"white\",\"ticks\":\"\",\"title\":{\"standoff\":15},\"zerolinecolor\":\"white\",\"automargin\":true,\"zerolinewidth\":2},\"scene\":{\"xaxis\":{\"backgroundcolor\":\"#E5ECF6\",\"gridcolor\":\"white\",\"linecolor\":\"white\",\"showbackground\":true,\"ticks\":\"\",\"zerolinecolor\":\"white\",\"gridwidth\":2},\"yaxis\":{\"backgroundcolor\":\"#E5ECF6\",\"gridcolor\":\"white\",\"linecolor\":\"white\",\"showbackground\":true,\"ticks\":\"\",\"zerolinecolor\":\"white\",\"gridwidth\":2},\"zaxis\":{\"backgroundcolor\":\"#E5ECF6\",\"gridcolor\":\"white\",\"linecolor\":\"white\",\"showbackground\":true,\"ticks\":\"\",\"zerolinecolor\":\"white\",\"gridwidth\":2}},\"shapedefaults\":{\"line\":{\"color\":\"#2a3f5f\"}},\"annotationdefaults\":{\"arrowcolor\":\"#2a3f5f\",\"arrowhead\":0,\"arrowwidth\":1},\"geo\":{\"bgcolor\":\"white\",\"landcolor\":\"#E5ECF6\",\"subunitcolor\":\"white\",\"showland\":true,\"showlakes\":true,\"lakecolor\":\"white\"},\"title\":{\"x\":0.05},\"mapbox\":{\"style\":\"light\"}}},\"margin\":{\"r\":20,\"b\":10,\"l\":10,\"t\":10},\"scene\":{\"xaxis\":{\"title\":{\"text\":\"-job profit\"}},\"yaxis\":{\"title\":{\"text\":\"max job per staff\"}},\"zaxis\":{\"title\":{\"text\":\"max len job\"}}},\"width\":700},                        {\"responsive\": true}                    ).then(function(){\n",
       "                            \n",
       "var gd = document.getElementById('48497ffb-e457-483a-bad7-b7b685ae3af7');\n",
       "var x = new MutationObserver(function (mutations, observer) {{\n",
       "        var display = window.getComputedStyle(gd).display;\n",
       "        if (!display || display === 'none') {{\n",
       "            console.log([gd, 'removed!']);\n",
       "            Plotly.purge(gd);\n",
       "            observer.disconnect();\n",
       "        }}\n",
       "}});\n",
       "\n",
       "// Listen for the removal of the full notebook cells\n",
       "var notebookContainer = gd.closest('#notebook-container');\n",
       "if (notebookContainer) {{\n",
       "    x.observe(notebookContainer, {childList: true});\n",
       "}}\n",
       "\n",
       "// Listen for the clearing of the current output cell\n",
       "var outputEl = gd.closest('.output');\n",
       "if (outputEl) {{\n",
       "    x.observe(outputEl, {childList: true});\n",
       "}}\n",
       "\n",
       "                        })                };                });            </script>        </div>"
      ]
     },
     "metadata": {},
     "output_type": "display_data"
    }
   ],
   "source": [
    "vect = [1,2,3]\n",
    "df_ND = pd.DataFrame(solutions[list(set_ND),:],columns=['-job profit','max job per staff','max len job'])\n",
    "df_ND['type'] ='ND' \n",
    "df_ND['color'] =0\n",
    "df_proj_ND = pd.DataFrame(projection(solutions[list(set_ND),:],vect),columns=['-job profit','max job per staff','max len job'])\n",
    "df_proj_ND['type'] ='proj ND' \n",
    "df_proj_ND['color'] =0\n",
    "df_rest = pd.DataFrame(solutions[list(set_rest),:],columns=['-job profit','max job per staff','max len job'])\n",
    "df_rest['type'] =r'fND\\ND'\n",
    "df_rest['color'] =2\n",
    "df_proj_rest = pd.DataFrame(projection(solutions[list(set_rest),:],vect),columns=['-job profit','max job per staff','max len job'])\n",
    "df_proj_rest['type'] =r'proj fND\\ND' \n",
    "df_proj_rest['color'] =2\n",
    "df = pd.concat([df_ND,df_rest])\n",
    "df_proj = pd.concat([df_proj_ND,df_proj_rest])\n",
    "\n",
    "\n",
    "\n",
    "\n",
    "fig = go.Figure(data=[go.Scatter3d(name='solutions ND',x=df_ND['-job profit'],y=df_ND['max job per staff'],z=df_ND['max len job'],mode ='markers', \n",
    "                                   marker = dict(\n",
    "                                     size = 12,\n",
    "                                     color = 'blue',\n",
    "                                     colorscale ='Viridis',\n",
    "                                     opacity = 0.8\n",
    "                                   )),\n",
    "                      go.Scatter3d(name=r'solutions fND\\ND',x=df_rest['-job profit'],y=df_rest['max job per staff'],z=df_rest['max len job'],mode ='markers', \n",
    "                                   marker = dict(\n",
    "                                     size = 12,\n",
    "                                     color = 'black',\n",
    "                                     colorscale ='Viridis',\n",
    "                                     opacity = 0.8\n",
    "                                   )),\n",
    "                     ])\n",
    "\n",
    "fig.update_layout(scene = dict(\n",
    "                    xaxis_title='-job profit',\n",
    "                    yaxis_title='max job per staff',\n",
    "                    zaxis_title='max len job'),\n",
    "                    width=700,\n",
    "                    margin=dict(r=20, b=10, l=10, t=10))\n",
    "\n",
    "fig.show()\n",
    "fig.write_html(\"plotly_nd.html\")"
   ]
  },
  {
   "cell_type": "code",
   "execution_count": 49,
   "metadata": {},
   "outputs": [
    {
     "name": "stdout",
     "output_type": "stream",
     "text": [
      "[0.26726124 0.53452248 0.80178373]\n",
      "[[-183.34121195]\n",
      " [-175.05611345]\n",
      " [-155.01152031]\n",
      " [ -28.59695288]\n",
      " [ -23.78625053]]\n",
      "[0.26726124 0.53452248 0.80178373]\n",
      "[[-182.80668947]\n",
      " [-178.79777084]\n",
      " [-174.25432973]\n",
      " [-158.48591645]\n",
      " [-124.00921625]]\n"
     ]
    },
    {
     "data": {
      "application/vnd.plotly.v1+json": {
       "config": {
        "plotlyServerURL": "https://plot.ly"
       },
       "data": [
        {
         "marker": {
          "color": "blue",
          "colorscale": [
           [
            0,
            "#440154"
           ],
           [
            0.1111111111111111,
            "#482878"
           ],
           [
            0.2222222222222222,
            "#3e4989"
           ],
           [
            0.3333333333333333,
            "#31688e"
           ],
           [
            0.4444444444444444,
            "#26828e"
           ],
           [
            0.5555555555555556,
            "#1f9e89"
           ],
           [
            0.6666666666666666,
            "#35b779"
           ],
           [
            0.7777777777777778,
            "#6ece58"
           ],
           [
            0.8888888888888888,
            "#b5de2b"
           ],
           [
            1,
            "#fde725"
           ]
          ],
          "opacity": 0.8,
          "size": 12
         },
         "mode": "markers",
         "name": "solutions ND",
         "type": "scatter3d",
         "x": [
          -800,
          -770,
          -685,
          -170,
          -150
         ],
         "y": [
          6,
          8,
          6,
          3,
          2
         ],
         "z": [
          34,
          33,
          31,
          19,
          19
         ]
        },
        {
         "marker": {
          "color": "black",
          "colorscale": [
           [
            0,
            "#440154"
           ],
           [
            0.1111111111111111,
            "#482878"
           ],
           [
            0.2222222222222222,
            "#3e4989"
           ],
           [
            0.3333333333333333,
            "#31688e"
           ],
           [
            0.4444444444444444,
            "#26828e"
           ],
           [
            0.5555555555555556,
            "#1f9e89"
           ],
           [
            0.6666666666666666,
            "#35b779"
           ],
           [
            0.7777777777777778,
            "#6ece58"
           ],
           [
            0.8888888888888888,
            "#b5de2b"
           ],
           [
            1,
            "#fde725"
           ]
          ],
          "opacity": 0.8,
          "size": 12
         },
         "mode": "markers",
         "name": "solutions fND\\ND",
         "type": "scatter3d",
         "x": [
          -800,
          -785,
          -770,
          -710,
          -585
         ],
         "y": [
          7,
          7,
          8,
          6,
          8
         ],
         "z": [
          34,
          34,
          34,
          35,
          35
         ]
        },
        {
         "marker": {
          "color": "blue",
          "colorscale": [
           [
            0,
            "#440154"
           ],
           [
            0.1111111111111111,
            "#482878"
           ],
           [
            0.2222222222222222,
            "#3e4989"
           ],
           [
            0.3333333333333333,
            "#31688e"
           ],
           [
            0.4444444444444444,
            "#26828e"
           ],
           [
            0.5555555555555556,
            "#1f9e89"
           ],
           [
            0.6666666666666666,
            "#35b779"
           ],
           [
            0.7777777777777778,
            "#6ece58"
           ],
           [
            0.8888888888888888,
            "#b5de2b"
           ],
           [
            1,
            "#fde725"
           ]
          ],
          "opacity": 0.6,
          "size": 8
         },
         "mode": "lines+markers",
         "name": "projections ND",
         "type": "scatter3d",
         "x": [
          -49.00000000000001,
          -46.78571428571429,
          -41.42857142857143,
          -7.642857142857143,
          -6.357142857142858
         ],
         "y": [
          -98.00000000000001,
          -93.57142857142858,
          -82.85714285714286,
          -15.285714285714286,
          -12.714285714285715
         ],
         "z": [
          -147.00000000000003,
          -140.3571428571429,
          -124.28571428571428,
          -22.92857142857143,
          -19.071428571428573
         ]
        },
        {
         "marker": {
          "color": "black",
          "colorscale": [
           [
            0,
            "#440154"
           ],
           [
            0.1111111111111111,
            "#482878"
           ],
           [
            0.2222222222222222,
            "#3e4989"
           ],
           [
            0.3333333333333333,
            "#31688e"
           ],
           [
            0.4444444444444444,
            "#26828e"
           ],
           [
            0.5555555555555556,
            "#1f9e89"
           ],
           [
            0.6666666666666666,
            "#35b779"
           ],
           [
            0.7777777777777778,
            "#6ece58"
           ],
           [
            0.8888888888888888,
            "#b5de2b"
           ],
           [
            1,
            "#fde725"
           ]
          ],
          "opacity": 0.6,
          "size": 8
         },
         "mode": "lines+markers",
         "name": "projections fND\\ND",
         "type": "scatter3d",
         "x": [
          -48.85714285714287,
          -47.78571428571429,
          -46.57142857142858,
          -42.357142857142854,
          -33.142857142857146
         ],
         "y": [
          -97.71428571428574,
          -95.57142857142858,
          -93.14285714285715,
          -84.71428571428571,
          -66.28571428571429
         ],
         "z": [
          -146.5714285714286,
          -143.35714285714286,
          -139.71428571428575,
          -127.07142857142857,
          -99.42857142857144
         ]
        }
       ],
       "layout": {
        "margin": {
         "b": 10,
         "l": 10,
         "r": 20,
         "t": 10
        },
        "scene": {
         "xaxis": {
          "title": {
           "text": "-job profit"
          }
         },
         "yaxis": {
          "title": {
           "text": "max job per staff"
          }
         },
         "zaxis": {
          "title": {
           "text": "max len job"
          }
         }
        },
        "template": {
         "data": {
          "bar": [
           {
            "error_x": {
             "color": "#2a3f5f"
            },
            "error_y": {
             "color": "#2a3f5f"
            },
            "marker": {
             "line": {
              "color": "#E5ECF6",
              "width": 0.5
             },
             "pattern": {
              "fillmode": "overlay",
              "size": 10,
              "solidity": 0.2
             }
            },
            "type": "bar"
           }
          ],
          "barpolar": [
           {
            "marker": {
             "line": {
              "color": "#E5ECF6",
              "width": 0.5
             },
             "pattern": {
              "fillmode": "overlay",
              "size": 10,
              "solidity": 0.2
             }
            },
            "type": "barpolar"
           }
          ],
          "carpet": [
           {
            "aaxis": {
             "endlinecolor": "#2a3f5f",
             "gridcolor": "white",
             "linecolor": "white",
             "minorgridcolor": "white",
             "startlinecolor": "#2a3f5f"
            },
            "baxis": {
             "endlinecolor": "#2a3f5f",
             "gridcolor": "white",
             "linecolor": "white",
             "minorgridcolor": "white",
             "startlinecolor": "#2a3f5f"
            },
            "type": "carpet"
           }
          ],
          "choropleth": [
           {
            "colorbar": {
             "outlinewidth": 0,
             "ticks": ""
            },
            "type": "choropleth"
           }
          ],
          "contour": [
           {
            "colorbar": {
             "outlinewidth": 0,
             "ticks": ""
            },
            "colorscale": [
             [
              0,
              "#0d0887"
             ],
             [
              0.1111111111111111,
              "#46039f"
             ],
             [
              0.2222222222222222,
              "#7201a8"
             ],
             [
              0.3333333333333333,
              "#9c179e"
             ],
             [
              0.4444444444444444,
              "#bd3786"
             ],
             [
              0.5555555555555556,
              "#d8576b"
             ],
             [
              0.6666666666666666,
              "#ed7953"
             ],
             [
              0.7777777777777778,
              "#fb9f3a"
             ],
             [
              0.8888888888888888,
              "#fdca26"
             ],
             [
              1,
              "#f0f921"
             ]
            ],
            "type": "contour"
           }
          ],
          "contourcarpet": [
           {
            "colorbar": {
             "outlinewidth": 0,
             "ticks": ""
            },
            "type": "contourcarpet"
           }
          ],
          "heatmap": [
           {
            "colorbar": {
             "outlinewidth": 0,
             "ticks": ""
            },
            "colorscale": [
             [
              0,
              "#0d0887"
             ],
             [
              0.1111111111111111,
              "#46039f"
             ],
             [
              0.2222222222222222,
              "#7201a8"
             ],
             [
              0.3333333333333333,
              "#9c179e"
             ],
             [
              0.4444444444444444,
              "#bd3786"
             ],
             [
              0.5555555555555556,
              "#d8576b"
             ],
             [
              0.6666666666666666,
              "#ed7953"
             ],
             [
              0.7777777777777778,
              "#fb9f3a"
             ],
             [
              0.8888888888888888,
              "#fdca26"
             ],
             [
              1,
              "#f0f921"
             ]
            ],
            "type": "heatmap"
           }
          ],
          "heatmapgl": [
           {
            "colorbar": {
             "outlinewidth": 0,
             "ticks": ""
            },
            "colorscale": [
             [
              0,
              "#0d0887"
             ],
             [
              0.1111111111111111,
              "#46039f"
             ],
             [
              0.2222222222222222,
              "#7201a8"
             ],
             [
              0.3333333333333333,
              "#9c179e"
             ],
             [
              0.4444444444444444,
              "#bd3786"
             ],
             [
              0.5555555555555556,
              "#d8576b"
             ],
             [
              0.6666666666666666,
              "#ed7953"
             ],
             [
              0.7777777777777778,
              "#fb9f3a"
             ],
             [
              0.8888888888888888,
              "#fdca26"
             ],
             [
              1,
              "#f0f921"
             ]
            ],
            "type": "heatmapgl"
           }
          ],
          "histogram": [
           {
            "marker": {
             "pattern": {
              "fillmode": "overlay",
              "size": 10,
              "solidity": 0.2
             }
            },
            "type": "histogram"
           }
          ],
          "histogram2d": [
           {
            "colorbar": {
             "outlinewidth": 0,
             "ticks": ""
            },
            "colorscale": [
             [
              0,
              "#0d0887"
             ],
             [
              0.1111111111111111,
              "#46039f"
             ],
             [
              0.2222222222222222,
              "#7201a8"
             ],
             [
              0.3333333333333333,
              "#9c179e"
             ],
             [
              0.4444444444444444,
              "#bd3786"
             ],
             [
              0.5555555555555556,
              "#d8576b"
             ],
             [
              0.6666666666666666,
              "#ed7953"
             ],
             [
              0.7777777777777778,
              "#fb9f3a"
             ],
             [
              0.8888888888888888,
              "#fdca26"
             ],
             [
              1,
              "#f0f921"
             ]
            ],
            "type": "histogram2d"
           }
          ],
          "histogram2dcontour": [
           {
            "colorbar": {
             "outlinewidth": 0,
             "ticks": ""
            },
            "colorscale": [
             [
              0,
              "#0d0887"
             ],
             [
              0.1111111111111111,
              "#46039f"
             ],
             [
              0.2222222222222222,
              "#7201a8"
             ],
             [
              0.3333333333333333,
              "#9c179e"
             ],
             [
              0.4444444444444444,
              "#bd3786"
             ],
             [
              0.5555555555555556,
              "#d8576b"
             ],
             [
              0.6666666666666666,
              "#ed7953"
             ],
             [
              0.7777777777777778,
              "#fb9f3a"
             ],
             [
              0.8888888888888888,
              "#fdca26"
             ],
             [
              1,
              "#f0f921"
             ]
            ],
            "type": "histogram2dcontour"
           }
          ],
          "mesh3d": [
           {
            "colorbar": {
             "outlinewidth": 0,
             "ticks": ""
            },
            "type": "mesh3d"
           }
          ],
          "parcoords": [
           {
            "line": {
             "colorbar": {
              "outlinewidth": 0,
              "ticks": ""
             }
            },
            "type": "parcoords"
           }
          ],
          "pie": [
           {
            "automargin": true,
            "type": "pie"
           }
          ],
          "scatter": [
           {
            "fillpattern": {
             "fillmode": "overlay",
             "size": 10,
             "solidity": 0.2
            },
            "type": "scatter"
           }
          ],
          "scatter3d": [
           {
            "line": {
             "colorbar": {
              "outlinewidth": 0,
              "ticks": ""
             }
            },
            "marker": {
             "colorbar": {
              "outlinewidth": 0,
              "ticks": ""
             }
            },
            "type": "scatter3d"
           }
          ],
          "scattercarpet": [
           {
            "marker": {
             "colorbar": {
              "outlinewidth": 0,
              "ticks": ""
             }
            },
            "type": "scattercarpet"
           }
          ],
          "scattergeo": [
           {
            "marker": {
             "colorbar": {
              "outlinewidth": 0,
              "ticks": ""
             }
            },
            "type": "scattergeo"
           }
          ],
          "scattergl": [
           {
            "marker": {
             "colorbar": {
              "outlinewidth": 0,
              "ticks": ""
             }
            },
            "type": "scattergl"
           }
          ],
          "scattermapbox": [
           {
            "marker": {
             "colorbar": {
              "outlinewidth": 0,
              "ticks": ""
             }
            },
            "type": "scattermapbox"
           }
          ],
          "scatterpolar": [
           {
            "marker": {
             "colorbar": {
              "outlinewidth": 0,
              "ticks": ""
             }
            },
            "type": "scatterpolar"
           }
          ],
          "scatterpolargl": [
           {
            "marker": {
             "colorbar": {
              "outlinewidth": 0,
              "ticks": ""
             }
            },
            "type": "scatterpolargl"
           }
          ],
          "scatterternary": [
           {
            "marker": {
             "colorbar": {
              "outlinewidth": 0,
              "ticks": ""
             }
            },
            "type": "scatterternary"
           }
          ],
          "surface": [
           {
            "colorbar": {
             "outlinewidth": 0,
             "ticks": ""
            },
            "colorscale": [
             [
              0,
              "#0d0887"
             ],
             [
              0.1111111111111111,
              "#46039f"
             ],
             [
              0.2222222222222222,
              "#7201a8"
             ],
             [
              0.3333333333333333,
              "#9c179e"
             ],
             [
              0.4444444444444444,
              "#bd3786"
             ],
             [
              0.5555555555555556,
              "#d8576b"
             ],
             [
              0.6666666666666666,
              "#ed7953"
             ],
             [
              0.7777777777777778,
              "#fb9f3a"
             ],
             [
              0.8888888888888888,
              "#fdca26"
             ],
             [
              1,
              "#f0f921"
             ]
            ],
            "type": "surface"
           }
          ],
          "table": [
           {
            "cells": {
             "fill": {
              "color": "#EBF0F8"
             },
             "line": {
              "color": "white"
             }
            },
            "header": {
             "fill": {
              "color": "#C8D4E3"
             },
             "line": {
              "color": "white"
             }
            },
            "type": "table"
           }
          ]
         },
         "layout": {
          "annotationdefaults": {
           "arrowcolor": "#2a3f5f",
           "arrowhead": 0,
           "arrowwidth": 1
          },
          "autotypenumbers": "strict",
          "coloraxis": {
           "colorbar": {
            "outlinewidth": 0,
            "ticks": ""
           }
          },
          "colorscale": {
           "diverging": [
            [
             0,
             "#8e0152"
            ],
            [
             0.1,
             "#c51b7d"
            ],
            [
             0.2,
             "#de77ae"
            ],
            [
             0.3,
             "#f1b6da"
            ],
            [
             0.4,
             "#fde0ef"
            ],
            [
             0.5,
             "#f7f7f7"
            ],
            [
             0.6,
             "#e6f5d0"
            ],
            [
             0.7,
             "#b8e186"
            ],
            [
             0.8,
             "#7fbc41"
            ],
            [
             0.9,
             "#4d9221"
            ],
            [
             1,
             "#276419"
            ]
           ],
           "sequential": [
            [
             0,
             "#0d0887"
            ],
            [
             0.1111111111111111,
             "#46039f"
            ],
            [
             0.2222222222222222,
             "#7201a8"
            ],
            [
             0.3333333333333333,
             "#9c179e"
            ],
            [
             0.4444444444444444,
             "#bd3786"
            ],
            [
             0.5555555555555556,
             "#d8576b"
            ],
            [
             0.6666666666666666,
             "#ed7953"
            ],
            [
             0.7777777777777778,
             "#fb9f3a"
            ],
            [
             0.8888888888888888,
             "#fdca26"
            ],
            [
             1,
             "#f0f921"
            ]
           ],
           "sequentialminus": [
            [
             0,
             "#0d0887"
            ],
            [
             0.1111111111111111,
             "#46039f"
            ],
            [
             0.2222222222222222,
             "#7201a8"
            ],
            [
             0.3333333333333333,
             "#9c179e"
            ],
            [
             0.4444444444444444,
             "#bd3786"
            ],
            [
             0.5555555555555556,
             "#d8576b"
            ],
            [
             0.6666666666666666,
             "#ed7953"
            ],
            [
             0.7777777777777778,
             "#fb9f3a"
            ],
            [
             0.8888888888888888,
             "#fdca26"
            ],
            [
             1,
             "#f0f921"
            ]
           ]
          },
          "colorway": [
           "#636efa",
           "#EF553B",
           "#00cc96",
           "#ab63fa",
           "#FFA15A",
           "#19d3f3",
           "#FF6692",
           "#B6E880",
           "#FF97FF",
           "#FECB52"
          ],
          "font": {
           "color": "#2a3f5f"
          },
          "geo": {
           "bgcolor": "white",
           "lakecolor": "white",
           "landcolor": "#E5ECF6",
           "showlakes": true,
           "showland": true,
           "subunitcolor": "white"
          },
          "hoverlabel": {
           "align": "left"
          },
          "hovermode": "closest",
          "mapbox": {
           "style": "light"
          },
          "paper_bgcolor": "white",
          "plot_bgcolor": "#E5ECF6",
          "polar": {
           "angularaxis": {
            "gridcolor": "white",
            "linecolor": "white",
            "ticks": ""
           },
           "bgcolor": "#E5ECF6",
           "radialaxis": {
            "gridcolor": "white",
            "linecolor": "white",
            "ticks": ""
           }
          },
          "scene": {
           "xaxis": {
            "backgroundcolor": "#E5ECF6",
            "gridcolor": "white",
            "gridwidth": 2,
            "linecolor": "white",
            "showbackground": true,
            "ticks": "",
            "zerolinecolor": "white"
           },
           "yaxis": {
            "backgroundcolor": "#E5ECF6",
            "gridcolor": "white",
            "gridwidth": 2,
            "linecolor": "white",
            "showbackground": true,
            "ticks": "",
            "zerolinecolor": "white"
           },
           "zaxis": {
            "backgroundcolor": "#E5ECF6",
            "gridcolor": "white",
            "gridwidth": 2,
            "linecolor": "white",
            "showbackground": true,
            "ticks": "",
            "zerolinecolor": "white"
           }
          },
          "shapedefaults": {
           "line": {
            "color": "#2a3f5f"
           }
          },
          "ternary": {
           "aaxis": {
            "gridcolor": "white",
            "linecolor": "white",
            "ticks": ""
           },
           "baxis": {
            "gridcolor": "white",
            "linecolor": "white",
            "ticks": ""
           },
           "bgcolor": "#E5ECF6",
           "caxis": {
            "gridcolor": "white",
            "linecolor": "white",
            "ticks": ""
           }
          },
          "title": {
           "x": 0.05
          },
          "xaxis": {
           "automargin": true,
           "gridcolor": "white",
           "linecolor": "white",
           "ticks": "",
           "title": {
            "standoff": 15
           },
           "zerolinecolor": "white",
           "zerolinewidth": 2
          },
          "yaxis": {
           "automargin": true,
           "gridcolor": "white",
           "linecolor": "white",
           "ticks": "",
           "title": {
            "standoff": 15
           },
           "zerolinecolor": "white",
           "zerolinewidth": 2
          }
         }
        },
        "width": 700
       }
      },
      "text/html": [
       "<div>                            <div id=\"8f917d0e-afef-46fa-92c7-9f87a93205e8\" class=\"plotly-graph-div\" style=\"height:525px; width:700px;\"></div>            <script type=\"text/javascript\">                require([\"plotly\"], function(Plotly) {                    window.PLOTLYENV=window.PLOTLYENV || {};                                    if (document.getElementById(\"8f917d0e-afef-46fa-92c7-9f87a93205e8\")) {                    Plotly.newPlot(                        \"8f917d0e-afef-46fa-92c7-9f87a93205e8\",                        [{\"marker\":{\"color\":\"blue\",\"colorscale\":[[0.0,\"#440154\"],[0.1111111111111111,\"#482878\"],[0.2222222222222222,\"#3e4989\"],[0.3333333333333333,\"#31688e\"],[0.4444444444444444,\"#26828e\"],[0.5555555555555556,\"#1f9e89\"],[0.6666666666666666,\"#35b779\"],[0.7777777777777778,\"#6ece58\"],[0.8888888888888888,\"#b5de2b\"],[1.0,\"#fde725\"]],\"opacity\":0.8,\"size\":12},\"mode\":\"markers\",\"name\":\"solutions ND\",\"x\":[-800,-770,-685,-170,-150],\"y\":[6,8,6,3,2],\"z\":[34,33,31,19,19],\"type\":\"scatter3d\"},{\"marker\":{\"color\":\"black\",\"colorscale\":[[0.0,\"#440154\"],[0.1111111111111111,\"#482878\"],[0.2222222222222222,\"#3e4989\"],[0.3333333333333333,\"#31688e\"],[0.4444444444444444,\"#26828e\"],[0.5555555555555556,\"#1f9e89\"],[0.6666666666666666,\"#35b779\"],[0.7777777777777778,\"#6ece58\"],[0.8888888888888888,\"#b5de2b\"],[1.0,\"#fde725\"]],\"opacity\":0.8,\"size\":12},\"mode\":\"markers\",\"name\":\"solutions fND\\\\ND\",\"x\":[-800,-785,-770,-710,-585],\"y\":[7,7,8,6,8],\"z\":[34,34,34,35,35],\"type\":\"scatter3d\"},{\"marker\":{\"color\":\"blue\",\"colorscale\":[[0.0,\"#440154\"],[0.1111111111111111,\"#482878\"],[0.2222222222222222,\"#3e4989\"],[0.3333333333333333,\"#31688e\"],[0.4444444444444444,\"#26828e\"],[0.5555555555555556,\"#1f9e89\"],[0.6666666666666666,\"#35b779\"],[0.7777777777777778,\"#6ece58\"],[0.8888888888888888,\"#b5de2b\"],[1.0,\"#fde725\"]],\"opacity\":0.6,\"size\":8},\"mode\":\"lines+markers\",\"name\":\"projections ND\",\"x\":[-49.00000000000001,-46.78571428571429,-41.42857142857143,-7.642857142857143,-6.357142857142858],\"y\":[-98.00000000000001,-93.57142857142858,-82.85714285714286,-15.285714285714286,-12.714285714285715],\"z\":[-147.00000000000003,-140.3571428571429,-124.28571428571428,-22.92857142857143,-19.071428571428573],\"type\":\"scatter3d\"},{\"marker\":{\"color\":\"black\",\"colorscale\":[[0.0,\"#440154\"],[0.1111111111111111,\"#482878\"],[0.2222222222222222,\"#3e4989\"],[0.3333333333333333,\"#31688e\"],[0.4444444444444444,\"#26828e\"],[0.5555555555555556,\"#1f9e89\"],[0.6666666666666666,\"#35b779\"],[0.7777777777777778,\"#6ece58\"],[0.8888888888888888,\"#b5de2b\"],[1.0,\"#fde725\"]],\"opacity\":0.6,\"size\":8},\"mode\":\"lines+markers\",\"name\":\"projections fND\\\\ND\",\"x\":[-48.85714285714287,-47.78571428571429,-46.57142857142858,-42.357142857142854,-33.142857142857146],\"y\":[-97.71428571428574,-95.57142857142858,-93.14285714285715,-84.71428571428571,-66.28571428571429],\"z\":[-146.5714285714286,-143.35714285714286,-139.71428571428575,-127.07142857142857,-99.42857142857144],\"type\":\"scatter3d\"}],                        {\"template\":{\"data\":{\"histogram2dcontour\":[{\"type\":\"histogram2dcontour\",\"colorbar\":{\"outlinewidth\":0,\"ticks\":\"\"},\"colorscale\":[[0.0,\"#0d0887\"],[0.1111111111111111,\"#46039f\"],[0.2222222222222222,\"#7201a8\"],[0.3333333333333333,\"#9c179e\"],[0.4444444444444444,\"#bd3786\"],[0.5555555555555556,\"#d8576b\"],[0.6666666666666666,\"#ed7953\"],[0.7777777777777778,\"#fb9f3a\"],[0.8888888888888888,\"#fdca26\"],[1.0,\"#f0f921\"]]}],\"choropleth\":[{\"type\":\"choropleth\",\"colorbar\":{\"outlinewidth\":0,\"ticks\":\"\"}}],\"histogram2d\":[{\"type\":\"histogram2d\",\"colorbar\":{\"outlinewidth\":0,\"ticks\":\"\"},\"colorscale\":[[0.0,\"#0d0887\"],[0.1111111111111111,\"#46039f\"],[0.2222222222222222,\"#7201a8\"],[0.3333333333333333,\"#9c179e\"],[0.4444444444444444,\"#bd3786\"],[0.5555555555555556,\"#d8576b\"],[0.6666666666666666,\"#ed7953\"],[0.7777777777777778,\"#fb9f3a\"],[0.8888888888888888,\"#fdca26\"],[1.0,\"#f0f921\"]]}],\"heatmap\":[{\"type\":\"heatmap\",\"colorbar\":{\"outlinewidth\":0,\"ticks\":\"\"},\"colorscale\":[[0.0,\"#0d0887\"],[0.1111111111111111,\"#46039f\"],[0.2222222222222222,\"#7201a8\"],[0.3333333333333333,\"#9c179e\"],[0.4444444444444444,\"#bd3786\"],[0.5555555555555556,\"#d8576b\"],[0.6666666666666666,\"#ed7953\"],[0.7777777777777778,\"#fb9f3a\"],[0.8888888888888888,\"#fdca26\"],[1.0,\"#f0f921\"]]}],\"heatmapgl\":[{\"type\":\"heatmapgl\",\"colorbar\":{\"outlinewidth\":0,\"ticks\":\"\"},\"colorscale\":[[0.0,\"#0d0887\"],[0.1111111111111111,\"#46039f\"],[0.2222222222222222,\"#7201a8\"],[0.3333333333333333,\"#9c179e\"],[0.4444444444444444,\"#bd3786\"],[0.5555555555555556,\"#d8576b\"],[0.6666666666666666,\"#ed7953\"],[0.7777777777777778,\"#fb9f3a\"],[0.8888888888888888,\"#fdca26\"],[1.0,\"#f0f921\"]]}],\"contourcarpet\":[{\"type\":\"contourcarpet\",\"colorbar\":{\"outlinewidth\":0,\"ticks\":\"\"}}],\"contour\":[{\"type\":\"contour\",\"colorbar\":{\"outlinewidth\":0,\"ticks\":\"\"},\"colorscale\":[[0.0,\"#0d0887\"],[0.1111111111111111,\"#46039f\"],[0.2222222222222222,\"#7201a8\"],[0.3333333333333333,\"#9c179e\"],[0.4444444444444444,\"#bd3786\"],[0.5555555555555556,\"#d8576b\"],[0.6666666666666666,\"#ed7953\"],[0.7777777777777778,\"#fb9f3a\"],[0.8888888888888888,\"#fdca26\"],[1.0,\"#f0f921\"]]}],\"surface\":[{\"type\":\"surface\",\"colorbar\":{\"outlinewidth\":0,\"ticks\":\"\"},\"colorscale\":[[0.0,\"#0d0887\"],[0.1111111111111111,\"#46039f\"],[0.2222222222222222,\"#7201a8\"],[0.3333333333333333,\"#9c179e\"],[0.4444444444444444,\"#bd3786\"],[0.5555555555555556,\"#d8576b\"],[0.6666666666666666,\"#ed7953\"],[0.7777777777777778,\"#fb9f3a\"],[0.8888888888888888,\"#fdca26\"],[1.0,\"#f0f921\"]]}],\"mesh3d\":[{\"type\":\"mesh3d\",\"colorbar\":{\"outlinewidth\":0,\"ticks\":\"\"}}],\"scatter\":[{\"fillpattern\":{\"fillmode\":\"overlay\",\"size\":10,\"solidity\":0.2},\"type\":\"scatter\"}],\"parcoords\":[{\"type\":\"parcoords\",\"line\":{\"colorbar\":{\"outlinewidth\":0,\"ticks\":\"\"}}}],\"scatterpolargl\":[{\"type\":\"scatterpolargl\",\"marker\":{\"colorbar\":{\"outlinewidth\":0,\"ticks\":\"\"}}}],\"bar\":[{\"error_x\":{\"color\":\"#2a3f5f\"},\"error_y\":{\"color\":\"#2a3f5f\"},\"marker\":{\"line\":{\"color\":\"#E5ECF6\",\"width\":0.5},\"pattern\":{\"fillmode\":\"overlay\",\"size\":10,\"solidity\":0.2}},\"type\":\"bar\"}],\"scattergeo\":[{\"type\":\"scattergeo\",\"marker\":{\"colorbar\":{\"outlinewidth\":0,\"ticks\":\"\"}}}],\"scatterpolar\":[{\"type\":\"scatterpolar\",\"marker\":{\"colorbar\":{\"outlinewidth\":0,\"ticks\":\"\"}}}],\"histogram\":[{\"marker\":{\"pattern\":{\"fillmode\":\"overlay\",\"size\":10,\"solidity\":0.2}},\"type\":\"histogram\"}],\"scattergl\":[{\"type\":\"scattergl\",\"marker\":{\"colorbar\":{\"outlinewidth\":0,\"ticks\":\"\"}}}],\"scatter3d\":[{\"type\":\"scatter3d\",\"line\":{\"colorbar\":{\"outlinewidth\":0,\"ticks\":\"\"}},\"marker\":{\"colorbar\":{\"outlinewidth\":0,\"ticks\":\"\"}}}],\"scattermapbox\":[{\"type\":\"scattermapbox\",\"marker\":{\"colorbar\":{\"outlinewidth\":0,\"ticks\":\"\"}}}],\"scatterternary\":[{\"type\":\"scatterternary\",\"marker\":{\"colorbar\":{\"outlinewidth\":0,\"ticks\":\"\"}}}],\"scattercarpet\":[{\"type\":\"scattercarpet\",\"marker\":{\"colorbar\":{\"outlinewidth\":0,\"ticks\":\"\"}}}],\"carpet\":[{\"aaxis\":{\"endlinecolor\":\"#2a3f5f\",\"gridcolor\":\"white\",\"linecolor\":\"white\",\"minorgridcolor\":\"white\",\"startlinecolor\":\"#2a3f5f\"},\"baxis\":{\"endlinecolor\":\"#2a3f5f\",\"gridcolor\":\"white\",\"linecolor\":\"white\",\"minorgridcolor\":\"white\",\"startlinecolor\":\"#2a3f5f\"},\"type\":\"carpet\"}],\"table\":[{\"cells\":{\"fill\":{\"color\":\"#EBF0F8\"},\"line\":{\"color\":\"white\"}},\"header\":{\"fill\":{\"color\":\"#C8D4E3\"},\"line\":{\"color\":\"white\"}},\"type\":\"table\"}],\"barpolar\":[{\"marker\":{\"line\":{\"color\":\"#E5ECF6\",\"width\":0.5},\"pattern\":{\"fillmode\":\"overlay\",\"size\":10,\"solidity\":0.2}},\"type\":\"barpolar\"}],\"pie\":[{\"automargin\":true,\"type\":\"pie\"}]},\"layout\":{\"autotypenumbers\":\"strict\",\"colorway\":[\"#636efa\",\"#EF553B\",\"#00cc96\",\"#ab63fa\",\"#FFA15A\",\"#19d3f3\",\"#FF6692\",\"#B6E880\",\"#FF97FF\",\"#FECB52\"],\"font\":{\"color\":\"#2a3f5f\"},\"hovermode\":\"closest\",\"hoverlabel\":{\"align\":\"left\"},\"paper_bgcolor\":\"white\",\"plot_bgcolor\":\"#E5ECF6\",\"polar\":{\"bgcolor\":\"#E5ECF6\",\"angularaxis\":{\"gridcolor\":\"white\",\"linecolor\":\"white\",\"ticks\":\"\"},\"radialaxis\":{\"gridcolor\":\"white\",\"linecolor\":\"white\",\"ticks\":\"\"}},\"ternary\":{\"bgcolor\":\"#E5ECF6\",\"aaxis\":{\"gridcolor\":\"white\",\"linecolor\":\"white\",\"ticks\":\"\"},\"baxis\":{\"gridcolor\":\"white\",\"linecolor\":\"white\",\"ticks\":\"\"},\"caxis\":{\"gridcolor\":\"white\",\"linecolor\":\"white\",\"ticks\":\"\"}},\"coloraxis\":{\"colorbar\":{\"outlinewidth\":0,\"ticks\":\"\"}},\"colorscale\":{\"sequential\":[[0.0,\"#0d0887\"],[0.1111111111111111,\"#46039f\"],[0.2222222222222222,\"#7201a8\"],[0.3333333333333333,\"#9c179e\"],[0.4444444444444444,\"#bd3786\"],[0.5555555555555556,\"#d8576b\"],[0.6666666666666666,\"#ed7953\"],[0.7777777777777778,\"#fb9f3a\"],[0.8888888888888888,\"#fdca26\"],[1.0,\"#f0f921\"]],\"sequentialminus\":[[0.0,\"#0d0887\"],[0.1111111111111111,\"#46039f\"],[0.2222222222222222,\"#7201a8\"],[0.3333333333333333,\"#9c179e\"],[0.4444444444444444,\"#bd3786\"],[0.5555555555555556,\"#d8576b\"],[0.6666666666666666,\"#ed7953\"],[0.7777777777777778,\"#fb9f3a\"],[0.8888888888888888,\"#fdca26\"],[1.0,\"#f0f921\"]],\"diverging\":[[0,\"#8e0152\"],[0.1,\"#c51b7d\"],[0.2,\"#de77ae\"],[0.3,\"#f1b6da\"],[0.4,\"#fde0ef\"],[0.5,\"#f7f7f7\"],[0.6,\"#e6f5d0\"],[0.7,\"#b8e186\"],[0.8,\"#7fbc41\"],[0.9,\"#4d9221\"],[1,\"#276419\"]]},\"xaxis\":{\"gridcolor\":\"white\",\"linecolor\":\"white\",\"ticks\":\"\",\"title\":{\"standoff\":15},\"zerolinecolor\":\"white\",\"automargin\":true,\"zerolinewidth\":2},\"yaxis\":{\"gridcolor\":\"white\",\"linecolor\":\"white\",\"ticks\":\"\",\"title\":{\"standoff\":15},\"zerolinecolor\":\"white\",\"automargin\":true,\"zerolinewidth\":2},\"scene\":{\"xaxis\":{\"backgroundcolor\":\"#E5ECF6\",\"gridcolor\":\"white\",\"linecolor\":\"white\",\"showbackground\":true,\"ticks\":\"\",\"zerolinecolor\":\"white\",\"gridwidth\":2},\"yaxis\":{\"backgroundcolor\":\"#E5ECF6\",\"gridcolor\":\"white\",\"linecolor\":\"white\",\"showbackground\":true,\"ticks\":\"\",\"zerolinecolor\":\"white\",\"gridwidth\":2},\"zaxis\":{\"backgroundcolor\":\"#E5ECF6\",\"gridcolor\":\"white\",\"linecolor\":\"white\",\"showbackground\":true,\"ticks\":\"\",\"zerolinecolor\":\"white\",\"gridwidth\":2}},\"shapedefaults\":{\"line\":{\"color\":\"#2a3f5f\"}},\"annotationdefaults\":{\"arrowcolor\":\"#2a3f5f\",\"arrowhead\":0,\"arrowwidth\":1},\"geo\":{\"bgcolor\":\"white\",\"landcolor\":\"#E5ECF6\",\"subunitcolor\":\"white\",\"showland\":true,\"showlakes\":true,\"lakecolor\":\"white\"},\"title\":{\"x\":0.05},\"mapbox\":{\"style\":\"light\"}}},\"margin\":{\"r\":20,\"b\":10,\"l\":10,\"t\":10},\"scene\":{\"xaxis\":{\"title\":{\"text\":\"-job profit\"}},\"yaxis\":{\"title\":{\"text\":\"max job per staff\"}},\"zaxis\":{\"title\":{\"text\":\"max len job\"}}},\"width\":700},                        {\"responsive\": true}                    ).then(function(){\n",
       "                            \n",
       "var gd = document.getElementById('8f917d0e-afef-46fa-92c7-9f87a93205e8');\n",
       "var x = new MutationObserver(function (mutations, observer) {{\n",
       "        var display = window.getComputedStyle(gd).display;\n",
       "        if (!display || display === 'none') {{\n",
       "            console.log([gd, 'removed!']);\n",
       "            Plotly.purge(gd);\n",
       "            observer.disconnect();\n",
       "        }}\n",
       "}});\n",
       "\n",
       "// Listen for the removal of the full notebook cells\n",
       "var notebookContainer = gd.closest('#notebook-container');\n",
       "if (notebookContainer) {{\n",
       "    x.observe(notebookContainer, {childList: true});\n",
       "}}\n",
       "\n",
       "// Listen for the clearing of the current output cell\n",
       "var outputEl = gd.closest('.output');\n",
       "if (outputEl) {{\n",
       "    x.observe(outputEl, {childList: true});\n",
       "}}\n",
       "\n",
       "                        })                };                });            </script>        </div>"
      ]
     },
     "metadata": {},
     "output_type": "display_data"
    }
   ],
   "source": [
    "import plotly.graph_objects as go\n",
    "import pandas as pd\n",
    "vect = [1,2,3]\n",
    "df_ND = pd.DataFrame(solutions[list(set_ND),:],columns=['-job profit','max job per staff','max len job'])\n",
    "df_ND['type'] ='ND' \n",
    "df_ND['color'] =0\n",
    "df_proj_ND = pd.DataFrame(projection(solutions[list(set_ND),:],vect),columns=['-job profit','max job per staff','max len job'])\n",
    "df_proj_ND['type'] ='proj ND' \n",
    "df_proj_ND['color'] =0\n",
    "df_rest = pd.DataFrame(solutions[list(set_rest),:],columns=['-job profit','max job per staff','max len job'])\n",
    "df_rest['type'] =r'fND\\ND'\n",
    "df_rest['color'] =2\n",
    "df_proj_rest = pd.DataFrame(projection(solutions[list(set_rest),:],vect),columns=['-job profit','max job per staff','max len job'])\n",
    "df_proj_rest['type'] =r'proj fND\\ND' \n",
    "df_proj_rest['color'] =2\n",
    "df = pd.concat([df_ND,df_rest])\n",
    "df_proj = pd.concat([df_proj_ND,df_proj_rest])\n",
    "\n",
    "\n",
    "\n",
    "\n",
    "fig = go.Figure(data=[go.Scatter3d(name='solutions ND',x=df_ND['-job profit'],y=df_ND['max job per staff'],z=df_ND['max len job'],mode ='markers', \n",
    "                                   marker = dict(\n",
    "                                     size = 12,\n",
    "                                     color = 'blue',\n",
    "                                     colorscale ='Viridis',\n",
    "                                     opacity = 0.8\n",
    "                                   )),\n",
    "                      go.Scatter3d(name=r'solutions fND\\ND',x=df_rest['-job profit'],y=df_rest['max job per staff'],z=df_rest['max len job'],mode ='markers', \n",
    "                                   marker = dict(\n",
    "                                     size = 12,\n",
    "                                     color = 'black',\n",
    "                                     colorscale ='Viridis',\n",
    "                                     opacity = 0.8\n",
    "                                   )),\n",
    "                     go.Scatter3d(name= 'projections ND',x=df_proj_ND['-job profit'],y=df_proj_ND['max job per staff'],z=df_proj_ND['max len job'],mode ='lines+markers', \n",
    "                                   marker = dict(\n",
    "                                     size = 8,\n",
    "                                     color = 'blue',\n",
    "                                     colorscale ='Viridis',\n",
    "                                     opacity = 0.6\n",
    "                                   )),\n",
    "                     go.Scatter3d(name= r'projections fND\\ND',x=df_proj_rest['-job profit'],y=df_proj_rest['max job per staff'],z=df_proj_rest['max len job'],mode ='lines+markers', \n",
    "                                   marker = dict(\n",
    "                                     size = 8,\n",
    "                                     color = 'black',\n",
    "                                     colorscale ='Viridis',\n",
    "                                     opacity = 0.6\n",
    "                                   ))])\n",
    "\n",
    "fig.update_layout(scene = dict(\n",
    "                    xaxis_title='-job profit',\n",
    "                    yaxis_title='max job per staff',\n",
    "                    zaxis_title='max len job'),\n",
    "                    width=700,\n",
    "                    margin=dict(r=20, b=10, l=10, t=10))\n",
    "\n",
    "fig.show()\n",
    "\n",
    "fig.write_html(\"plotly_nd_projection.html\")\n"
   ]
  },
  {
   "cell_type": "code",
   "execution_count": 50,
   "metadata": {},
   "outputs": [
    {
     "data": {
      "text/html": [
       "<div>\n",
       "<style scoped>\n",
       "    .dataframe tbody tr th:only-of-type {\n",
       "        vertical-align: middle;\n",
       "    }\n",
       "\n",
       "    .dataframe tbody tr th {\n",
       "        vertical-align: top;\n",
       "    }\n",
       "\n",
       "    .dataframe thead th {\n",
       "        text-align: right;\n",
       "    }\n",
       "</style>\n",
       "<table border=\"1\" class=\"dataframe\">\n",
       "  <thead>\n",
       "    <tr style=\"text-align: right;\">\n",
       "      <th></th>\n",
       "      <th>-job profit</th>\n",
       "      <th>max job per staff</th>\n",
       "      <th>max len job</th>\n",
       "      <th>type</th>\n",
       "      <th>color</th>\n",
       "    </tr>\n",
       "  </thead>\n",
       "  <tbody>\n",
       "    <tr>\n",
       "      <th>0</th>\n",
       "      <td>-800</td>\n",
       "      <td>6</td>\n",
       "      <td>34</td>\n",
       "      <td>ND</td>\n",
       "      <td>0</td>\n",
       "    </tr>\n",
       "    <tr>\n",
       "      <th>1</th>\n",
       "      <td>-770</td>\n",
       "      <td>8</td>\n",
       "      <td>33</td>\n",
       "      <td>ND</td>\n",
       "      <td>0</td>\n",
       "    </tr>\n",
       "    <tr>\n",
       "      <th>2</th>\n",
       "      <td>-685</td>\n",
       "      <td>6</td>\n",
       "      <td>31</td>\n",
       "      <td>ND</td>\n",
       "      <td>0</td>\n",
       "    </tr>\n",
       "    <tr>\n",
       "      <th>3</th>\n",
       "      <td>-170</td>\n",
       "      <td>3</td>\n",
       "      <td>19</td>\n",
       "      <td>ND</td>\n",
       "      <td>0</td>\n",
       "    </tr>\n",
       "    <tr>\n",
       "      <th>4</th>\n",
       "      <td>-150</td>\n",
       "      <td>2</td>\n",
       "      <td>19</td>\n",
       "      <td>ND</td>\n",
       "      <td>0</td>\n",
       "    </tr>\n",
       "    <tr>\n",
       "      <th>0</th>\n",
       "      <td>-800</td>\n",
       "      <td>7</td>\n",
       "      <td>34</td>\n",
       "      <td>fND\\ND</td>\n",
       "      <td>2</td>\n",
       "    </tr>\n",
       "    <tr>\n",
       "      <th>1</th>\n",
       "      <td>-785</td>\n",
       "      <td>7</td>\n",
       "      <td>34</td>\n",
       "      <td>fND\\ND</td>\n",
       "      <td>2</td>\n",
       "    </tr>\n",
       "    <tr>\n",
       "      <th>2</th>\n",
       "      <td>-770</td>\n",
       "      <td>8</td>\n",
       "      <td>34</td>\n",
       "      <td>fND\\ND</td>\n",
       "      <td>2</td>\n",
       "    </tr>\n",
       "    <tr>\n",
       "      <th>3</th>\n",
       "      <td>-710</td>\n",
       "      <td>6</td>\n",
       "      <td>35</td>\n",
       "      <td>fND\\ND</td>\n",
       "      <td>2</td>\n",
       "    </tr>\n",
       "    <tr>\n",
       "      <th>4</th>\n",
       "      <td>-585</td>\n",
       "      <td>8</td>\n",
       "      <td>35</td>\n",
       "      <td>fND\\ND</td>\n",
       "      <td>2</td>\n",
       "    </tr>\n",
       "  </tbody>\n",
       "</table>\n",
       "</div>"
      ],
      "text/plain": [
       "   -job profit  max job per staff  max len job    type  color\n",
       "0         -800                  6           34      ND      0\n",
       "1         -770                  8           33      ND      0\n",
       "2         -685                  6           31      ND      0\n",
       "3         -170                  3           19      ND      0\n",
       "4         -150                  2           19      ND      0\n",
       "0         -800                  7           34  fND\\ND      2\n",
       "1         -785                  7           34  fND\\ND      2\n",
       "2         -770                  8           34  fND\\ND      2\n",
       "3         -710                  6           35  fND\\ND      2\n",
       "4         -585                  8           35  fND\\ND      2"
      ]
     },
     "execution_count": 50,
     "metadata": {},
     "output_type": "execute_result"
    }
   ],
   "source": [
    "df\n"
   ]
  },
  {
   "cell_type": "code",
   "execution_count": 51,
   "metadata": {},
   "outputs": [
    {
     "data": {
      "text/plain": [
       "<matplotlib.legend.Legend at 0x287cc921d00>"
      ]
     },
     "execution_count": 51,
     "metadata": {},
     "output_type": "execute_result"
    },
    {
     "data": {
      "image/png": "[encoded data removed]",
      "text/plain": [
       "<Figure size 432x288 with 1 Axes>"
      ]
     },
     "metadata": {
      "needs_background": "light"
     },
     "output_type": "display_data"
    }
   ],
   "source": [
    "fig, ax = plt.subplots(1, 1)\n",
    "ax.add_patch(plt.Rectangle((x_min, y_min), x_max-x_min, y_max-y_min,\n",
    "                           facecolor='none',\n",
    "                          edgecolor='black',\n",
    "                           ls='--'))\n",
    "ax.scatter(list(x_ND),list(y_ND),c='blue',label='ND')\n",
    "ax.scatter(list(x_rest),list(y_rest),c='black',label=r'fND\\ND')\n",
    "\n",
    "\n",
    "ax.scatter(x_min,y_min,c='r')\n",
    "ax.scatter(x_max,y_max,c='r')\n",
    "\n",
    "ax.text(x_min, y_min, 'point ideal')\n",
    "ax.text(x_max, y_max, 'point de Nadir')\n",
    "ax.set_xlabel('- job_profit')\n",
    "ax.set_ylabel('max_job_per_staff')\n",
    "ax.legend()"
   ]
  },
  {
   "cell_type": "code",
   "execution_count": 52,
   "metadata": {},
   "outputs": [
    {
     "data": {
      "text/plain": [
       "<matplotlib.legend.Legend at 0x287cc9b7f70>"
      ]
     },
     "execution_count": 52,
     "metadata": {},
     "output_type": "execute_result"
    },
    {
     "data": {
      "image/png": "[encoded data removed]",
      "text/plain": [
       "<Figure size 432x288 with 1 Axes>"
      ]
     },
     "metadata": {
      "needs_background": "light"
     },
     "output_type": "display_data"
    }
   ],
   "source": [
    "fig, ax = plt.subplots(1, 1)\n",
    "ax.add_patch(plt.Rectangle((x_min, z_min), x_max-x_min, z_max-z_min,\n",
    "                           facecolor='none',\n",
    "                          edgecolor='black',\n",
    "                           ls='--'))\n",
    "ax.scatter(list(x_ND),list(z_ND),c='blue',label='ND')\n",
    "ax.scatter(list(x_rest),list(z_rest),c='black',label=r'fND\\ND')\n",
    "\n",
    "\n",
    "ax.scatter(x_min,z_min,c='r')\n",
    "ax.scatter(x_max,z_max,c='r')\n",
    "\n",
    "ax.text(x_min, z_min, 'point ideal')\n",
    "ax.text(x_max, z_max, 'point de Nadir')\n",
    "ax.set_xlabel('- job_profit')\n",
    "ax.set_ylabel('max_len_job')\n",
    "ax.legend()"
   ]
  },
  {
   "cell_type": "code",
   "execution_count": 53,
   "metadata": {},
   "outputs": [
    {
     "data": {
      "text/plain": [
       "<matplotlib.legend.Legend at 0x287cca5f550>"
      ]
     },
     "execution_count": 53,
     "metadata": {},
     "output_type": "execute_result"
    },
    {
     "data": {
      "image/png": "[encoded data removed]",
      "text/plain": [
       "<Figure size 432x288 with 1 Axes>"
      ]
     },
     "metadata": {
      "needs_background": "light"
     },
     "output_type": "display_data"
    }
   ],
   "source": [
    "fig, ax = plt.subplots(1, 1)\n",
    "ax.add_patch(plt.Rectangle((y_min, z_min), y_max-y_min, z_max-z_min,\n",
    "                           facecolor='none',\n",
    "                          edgecolor='black',\n",
    "                           ls='--'))\n",
    "ax.scatter(list(y_ND),list(z_ND),c='blue',label='ND')\n",
    "ax.scatter(list(y_rest),list(z_rest),c='black',label=r'fND\\ND')\n",
    "\n",
    "\n",
    "ax.scatter(y_min,z_min,c='r')\n",
    "ax.scatter(y_max,z_max,c='r')\n",
    "\n",
    "ax.text(y_min, z_min, 'point ideal')\n",
    "ax.text(y_max, z_max, 'point de Nadir')\n",
    "ax.set_xlabel('max_job_per_staff')\n",
    "ax.set_ylabel('max_len_job')\n",
    "ax.legend()"
   ]
  },
  {
   "cell_type": "markdown",
   "metadata": {},
   "source": [
    "## Determining best solution"
   ]
  },
  {
   "cell_type": "code",
   "execution_count": 54,
   "metadata": {},
   "outputs": [
    {
     "data": {
      "text/plain": [
       "array([[-800,    6,   34],\n",
       "       [-770,    8,   33],\n",
       "       [-685,    6,   31],\n",
       "       [-170,    3,   19],\n",
       "       [-150,    2,   19]])"
      ]
     },
     "execution_count": 54,
     "metadata": {},
     "output_type": "execute_result"
    }
   ],
   "source": [
    "solutions[list(set_ND)]"
   ]
  },
  {
   "cell_type": "markdown",
   "metadata": {},
   "source": [
    "### Scenario 1: weight and lambda values are known"
   ]
  },
  {
   "cell_type": "code",
   "execution_count": 38,
   "metadata": {},
   "outputs": [],
   "source": [
    "# Creating outranking matrix for ND solutions\n",
    "\n",
    "def create_outrank_matrix(weights,lambda_value,solutions):\n",
    "    \n",
    "    # Retrieving ND solutions from solution space\n",
    "    x,y,z = solutions[:,0],solutions[:,1],solutions[:,2]\n",
    "    set_ND,set_rest = ND(solutions)\n",
    "    x_ND,y_ND,z_ND = [x[i] for i in set_ND],[y[i] for i in set_ND],[z[i] for i in set_ND]\n",
    "    \n",
    "    # Initializing score matrix\n",
    "    score_matrix = np.zeros(shape=(len(set_ND),len(set_ND)))\n",
    "\n",
    "    for i in range(len(set_ND)):\n",
    "        for j in range(len(set_ND)):\n",
    "            if i==j:\n",
    "                score_matrix[i][j] = 1\n",
    "            else:\n",
    "                weight_sum = (x_ND[i]<=x_ND[j])*weights[0]+(y_ND[i]<=y_ND[j])*weights[1]+(z_ND[i]<=z_ND[j])*weights[2]\n",
    "                score_matrix[i][j] = weight_sum\n",
    "    \n",
    "    # Initializing outranking matrix\n",
    "    outrank_matrix = score_matrix>=lambda_value\n",
    "    \n",
    "    return score_matrix, outrank_matrix\n",
    "\n"
   ]
  },
  {
   "cell_type": "code",
   "execution_count": 39,
   "metadata": {},
   "outputs": [
    {
     "data": {
      "text/plain": [
       "(array([[1. , 0.9, 0.9, 0.6, 0.6],\n",
       "        [0.1, 1. , 0.6, 0.6, 0.6],\n",
       "        [0.4, 0.4, 1. , 0.6, 0.6],\n",
       "        [0.4, 0.4, 0.4, 1. , 0.7],\n",
       "        [0.4, 0.4, 0.4, 0.4, 1. ]]),\n",
       " array([[ True,  True,  True,  True,  True],\n",
       "        [False,  True,  True,  True,  True],\n",
       "        [False, False,  True,  True,  True],\n",
       "        [False, False, False,  True,  True],\n",
       "        [False, False, False, False,  True]]))"
      ]
     },
     "execution_count": 39,
     "metadata": {},
     "output_type": "execute_result"
    }
   ],
   "source": [
    "create_outrank_matrix(weights=[0.6,0.3,0.1],lambda_value=0.6,solutions=solutions)"
   ]
  },
  {
   "cell_type": "markdown",
   "metadata": {},
   "source": [
    "Best solution is therefore solution A: \n",
    "- profit: 800\n",
    "- Mean number of jobs done by staff: 6\n",
    "- Maximum period of a single project: 35 days (34+1)"
   ]
  },
  {
   "cell_type": "markdown",
   "metadata": {},
   "source": [
    "### Scenario 2: only pairwise preferences are known"
   ]
  },
  {
   "cell_type": "code",
   "execution_count": 33,
   "metadata": {},
   "outputs": [
    {
     "data": {
      "text/plain": [
       "array([[-800,    6,   34],\n",
       "       [-770,    8,   33],\n",
       "       [-685,    6,   31],\n",
       "       [-170,    3,   19],\n",
       "       [-150,    2,   19]])"
      ]
     },
     "execution_count": 33,
     "metadata": {},
     "output_type": "execute_result"
    }
   ],
   "source": [
    "solutions[list(set_ND)]"
   ]
  },
  {
   "cell_type": "markdown",
   "metadata": {},
   "source": [
    "- 1P2: (w1+w2 >= L) & (w3 < L)\n",
    "- 1P5: (w1 >= L) & (w2+w3 < L)\n",
    "- 1P3: (w1+w2 >= L) & (w2 + w3 <L)\n",
    "- 4P5: (w1+w3 >= L) & (w2 + w3 <L)"
   ]
  },
  {
   "cell_type": "code",
   "execution_count": 23,
   "metadata": {},
   "outputs": [
    {
     "name": "stdout",
     "output_type": "stream",
     "text": [
      "Optimal solution has weights (w1, w2, w3) = (0.8, 0.1, 0.1) and lambda value L = 0.5\n"
     ]
    }
   ],
   "source": [
    "epsilon = 1e-3\n",
    "\n",
    "\n",
    "m = Model(\"Solving linear program\")\n",
    "\n",
    "# Création de 2 variables continues v0 et v1\n",
    "w1 = m.addVar(lb=0.1)\n",
    "w2 = m.addVar(lb=0.1)\n",
    "w3 = m.addVar(lb=0.1)\n",
    "L = m.addVar(lb=0.5,ub=1.0)\n",
    "# maj du modèle\n",
    "m.update()\n",
    "# Ajout de 3 constraintes \n",
    "m.addConstr(w1 + w2 + w3 == 1)\n",
    "m.addConstr(w1 + w2 >= L)\n",
    "m.addConstr(w3 <= L - epsilon)\n",
    "m.addConstr(w2 + w3 <= L - epsilon)\n",
    "m.addConstr(w1 + w3 >= L)\n",
    "# Fonction Objectif\n",
    "m.setObjective(L, GRB.MINIMIZE)         \n",
    "# Paramétrage (mode mute)\n",
    "m.params.outputflag = 0\n",
    "# Résolution du PL\n",
    "m.optimize()\n",
    "print(\"Optimal solution has weights (w1, w2, w3) = {} and lambda value L = {}\".format((w1.x, w2.x, w3.x), L.x))"
   ]
  },
  {
   "cell_type": "code",
   "execution_count": 24,
   "metadata": {
    "scrolled": false
   },
   "outputs": [
    {
     "data": {
      "text/plain": [
       "(array([[1. , 0.9, 0.9, 0.8, 0.8],\n",
       "        [0.1, 1. , 0.8, 0.8, 0.8],\n",
       "        [0.2, 0.2, 1. , 0.8, 0.8],\n",
       "        [0.2, 0.2, 0.2, 1. , 0.9],\n",
       "        [0.2, 0.2, 0.2, 0.2, 1. ]]),\n",
       " array([[ True,  True,  True,  True,  True],\n",
       "        [False,  True,  True,  True,  True],\n",
       "        [False, False,  True,  True,  True],\n",
       "        [False, False, False,  True,  True],\n",
       "        [False, False, False, False,  True]]))"
      ]
     },
     "execution_count": 24,
     "metadata": {},
     "output_type": "execute_result"
    }
   ],
   "source": [
    "create_outrank_matrix(weights=[0.8,0.1,0.1],lambda_value=0.5,solutions=solutions)"
   ]
  },
  {
   "cell_type": "code",
   "execution_count": 26,
   "metadata": {},
   "outputs": [
    {
     "name": "stdout",
     "output_type": "stream",
     "text": [
      "Optimal solution has weights (w1, w2, w3) = (0.8, 0.1, 0.1) and lambda value L = 0.9\n"
     ]
    }
   ],
   "source": [
    "epsilon = 1e-3\n",
    "\n",
    "\n",
    "m = Model(\"Solving linear program\")\n",
    "\n",
    "# Création de 2 variables continues v0 et v1\n",
    "w1 = m.addVar(lb=0.1)\n",
    "w2 = m.addVar(lb=0.1)\n",
    "w3 = m.addVar(lb=0.1)\n",
    "L = m.addVar(lb=0.5,ub=1.0)\n",
    "# maj du modèle\n",
    "m.update()\n",
    "# Ajout de 3 constraintes \n",
    "m.addConstr(w1 + w2 + w3 == 1)\n",
    "m.addConstr(w1 + w2 >= L)\n",
    "m.addConstr(w3 <= L - epsilon)\n",
    "m.addConstr(w2 + w3 <= L - epsilon)\n",
    "m.addConstr(w1 + w3 >= L)\n",
    "# Fonction Objectif\n",
    "m.setObjective(L, GRB.MAXIMIZE)         \n",
    "# Paramétrage (mode mute)\n",
    "m.params.outputflag = 0\n",
    "# Résolution du PL\n",
    "m.optimize()\n",
    "print(\"Optimal solution has weights (w1, w2, w3) = {} and lambda value L = {}\".format((w1.x, w2.x, w3.x), L.x))"
   ]
  },
  {
   "cell_type": "code",
   "execution_count": 31,
   "metadata": {},
   "outputs": [
    {
     "data": {
      "text/plain": [
       "(array([[1. , 0.9, 0.9, 0.8, 0.8],\n",
       "        [0.1, 1. , 0.8, 0.8, 0.8],\n",
       "        [0.2, 0.2, 1. , 0.8, 0.8],\n",
       "        [0.2, 0.2, 0.2, 1. , 0.9],\n",
       "        [0.2, 0.2, 0.2, 0.2, 1. ]]),\n",
       " array([[ True,  True,  True,  True,  True],\n",
       "        [False,  True,  True,  True,  True],\n",
       "        [False, False,  True,  True,  True],\n",
       "        [False, False, False,  True,  True],\n",
       "        [False, False, False, False,  True]]))"
      ]
     },
     "execution_count": 31,
     "metadata": {},
     "output_type": "execute_result"
    }
   ],
   "source": [
    "create_outrank_matrix(weights=[0.8, 0.1, 0.1],lambda_value=0.8,solutions=solutions)"
   ]
  }
 ],
 "metadata": {
  "kernelspec": {
   "display_name": "Python 3 (ipykernel)",
   "language": "python",
   "name": "python3"
  },
  "language_info": {
   "codemirror_mode": {
    "name": "ipython",
    "version": 3
   },
   "file_extension": ".py",
   "mimetype": "text/x-python",
   "name": "python",
   "nbconvert_exporter": "python",
   "pygments_lexer": "ipython3",
   "version": "3.9.15"
  }
 },
 "nbformat": 4,
 "nbformat_minor": 2
}
